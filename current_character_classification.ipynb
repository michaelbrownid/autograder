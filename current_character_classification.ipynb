{
 "cells": [
  {
   "cell_type": "code",
   "execution_count": 1,
   "metadata": {},
   "outputs": [
    {
     "name": "stderr",
     "output_type": "stream",
     "text": [
      "Using TensorFlow backend.\n"
     ]
    }
   ],
   "source": [
    "from IPython.display import Image\n",
    "import matplotlib.pyplot as plt\n",
    "from PIL import Image as img\n",
    "import numpy as np\n",
    "import pandas as pd\n",
    "#tf, keras imports\n",
    "import tensorflow as tf\n",
    "from keras import layers\n",
    "from keras import models\n",
    "from keras import optimizers\n",
    "from keras.datasets import mnist\n",
    "from keras.models import Sequential, load_model\n",
    "from keras.layers.core import Dense, Dropout, Activation\n",
    "from keras.utils import np_utils\n",
    "from keras.preprocessing.image import ImageDataGenerator\n",
    "\n",
    "from sklearn.model_selection import train_test_split\n",
    "from sklearn.neighbors import KNeighborsRegressor\n",
    "from sklearn.tree import DecisionTreeClassifier\n",
    "from sklearn.metrics import accuracy_score\n",
    "\n",
    "from clf import get_clf\n",
    "\n",
    "#suppress warnings\n",
    "import warnings\n",
    "warnings.simplefilter('ignore')\n",
    "\n",
    "import cv2\n",
    "import gc\n",
    "import random\n",
    "from sklearn.utils import shuffle\n"
   ]
  },
  {
   "cell_type": "markdown",
   "metadata": {},
   "source": [
    "### Data labels "
   ]
  },
  {
   "cell_type": "code",
   "execution_count": 9,
   "metadata": {},
   "outputs": [],
   "source": [
    "file = 'HASYv2/hasy-data-labels.csv'\n",
    "df = pd.read_csv(file)"
   ]
  },
  {
   "cell_type": "markdown",
   "metadata": {},
   "source": [
    "### Symbols "
   ]
  },
  {
   "cell_type": "code",
   "execution_count": 6,
   "metadata": {},
   "outputs": [],
   "source": [
    "sym_file = 'HASYv2/symbols.csv'\n",
    "symbols = pd.read_csv(sym_file)"
   ]
  },
  {
   "cell_type": "code",
   "execution_count": null,
   "metadata": {},
   "outputs": [],
   "source": []
  },
  {
   "cell_type": "markdown",
   "metadata": {},
   "source": [
    "## Subset of data: digits only"
   ]
  },
  {
   "cell_type": "code",
   "execution_count": 11,
   "metadata": {},
   "outputs": [
    {
     "data": {
      "text/html": [
       "<div>\n",
       "<style scoped>\n",
       "    .dataframe tbody tr th:only-of-type {\n",
       "        vertical-align: middle;\n",
       "    }\n",
       "\n",
       "    .dataframe tbody tr th {\n",
       "        vertical-align: top;\n",
       "    }\n",
       "\n",
       "    .dataframe thead th {\n",
       "        text-align: right;\n",
       "    }\n",
       "</style>\n",
       "<table border=\"1\" class=\"dataframe\">\n",
       "  <thead>\n",
       "    <tr style=\"text-align: right;\">\n",
       "      <th></th>\n",
       "      <th>path</th>\n",
       "      <th>symbol_id</th>\n",
       "      <th>latex</th>\n",
       "      <th>user_id</th>\n",
       "    </tr>\n",
       "  </thead>\n",
       "  <tbody>\n",
       "    <tr>\n",
       "      <td>345</td>\n",
       "      <td>hasy-data/v2-00345.png</td>\n",
       "      <td>70</td>\n",
       "      <td>0</td>\n",
       "      <td>10</td>\n",
       "    </tr>\n",
       "    <tr>\n",
       "      <td>346</td>\n",
       "      <td>hasy-data/v2-00346.png</td>\n",
       "      <td>70</td>\n",
       "      <td>0</td>\n",
       "      <td>31</td>\n",
       "    </tr>\n",
       "    <tr>\n",
       "      <td>347</td>\n",
       "      <td>hasy-data/v2-00347.png</td>\n",
       "      <td>70</td>\n",
       "      <td>0</td>\n",
       "      <td>10</td>\n",
       "    </tr>\n",
       "    <tr>\n",
       "      <td>348</td>\n",
       "      <td>hasy-data/v2-00348.png</td>\n",
       "      <td>70</td>\n",
       "      <td>0</td>\n",
       "      <td>10</td>\n",
       "    </tr>\n",
       "    <tr>\n",
       "      <td>349</td>\n",
       "      <td>hasy-data/v2-00349.png</td>\n",
       "      <td>70</td>\n",
       "      <td>0</td>\n",
       "      <td>10</td>\n",
       "    </tr>\n",
       "    <tr>\n",
       "      <td>...</td>\n",
       "      <td>...</td>\n",
       "      <td>...</td>\n",
       "      <td>...</td>\n",
       "      <td>...</td>\n",
       "    </tr>\n",
       "    <tr>\n",
       "      <td>20823</td>\n",
       "      <td>hasy-data/v2-20823.png</td>\n",
       "      <td>79</td>\n",
       "      <td>9</td>\n",
       "      <td>101356</td>\n",
       "    </tr>\n",
       "    <tr>\n",
       "      <td>20824</td>\n",
       "      <td>hasy-data/v2-20824.png</td>\n",
       "      <td>79</td>\n",
       "      <td>9</td>\n",
       "      <td>116471</td>\n",
       "    </tr>\n",
       "    <tr>\n",
       "      <td>20825</td>\n",
       "      <td>hasy-data/v2-20825.png</td>\n",
       "      <td>79</td>\n",
       "      <td>9</td>\n",
       "      <td>124511</td>\n",
       "    </tr>\n",
       "    <tr>\n",
       "      <td>20826</td>\n",
       "      <td>hasy-data/v2-20826.png</td>\n",
       "      <td>79</td>\n",
       "      <td>9</td>\n",
       "      <td>124916</td>\n",
       "    </tr>\n",
       "    <tr>\n",
       "      <td>20827</td>\n",
       "      <td>hasy-data/v2-20827.png</td>\n",
       "      <td>79</td>\n",
       "      <td>9</td>\n",
       "      <td>125926</td>\n",
       "    </tr>\n",
       "  </tbody>\n",
       "</table>\n",
       "<p>1020 rows × 4 columns</p>\n",
       "</div>"
      ],
      "text/plain": [
       "                         path  symbol_id latex  user_id\n",
       "345    hasy-data/v2-00345.png         70     0       10\n",
       "346    hasy-data/v2-00346.png         70     0       31\n",
       "347    hasy-data/v2-00347.png         70     0       10\n",
       "348    hasy-data/v2-00348.png         70     0       10\n",
       "349    hasy-data/v2-00349.png         70     0       10\n",
       "...                       ...        ...   ...      ...\n",
       "20823  hasy-data/v2-20823.png         79     9   101356\n",
       "20824  hasy-data/v2-20824.png         79     9   116471\n",
       "20825  hasy-data/v2-20825.png         79     9   124511\n",
       "20826  hasy-data/v2-20826.png         79     9   124916\n",
       "20827  hasy-data/v2-20827.png         79     9   125926\n",
       "\n",
       "[1020 rows x 4 columns]"
      ]
     },
     "execution_count": 11,
     "metadata": {},
     "output_type": "execute_result"
    }
   ],
   "source": [
    "digits = df[(df['symbol_id']<=79) & (df['symbol_id']>=70)]\n",
    "# digits 0-9\n",
    "symbols.iloc[27:37]\n",
    "digits"
   ]
  },
  {
   "cell_type": "code",
   "execution_count": 12,
   "metadata": {},
   "outputs": [],
   "source": [
    "# digits\n",
    "# #Display imgs\n",
    "# for x in digits.path:\n",
    "#     print('HASYv2/'+x)\n",
    "#     display(Image(filename='HASYv2/'+x))"
   ]
  },
  {
   "cell_type": "markdown",
   "metadata": {},
   "source": [
    "# Make pixel arrays"
   ]
  },
  {
   "cell_type": "code",
   "execution_count": 12,
   "metadata": {},
   "outputs": [],
   "source": [
    "def make_pixel_array(df):\n",
    "    im = img.open('HASYv2/'+df['path'],'r').convert('L')\n",
    "    return np.asarray(im)  ##255-val inverts colors"
   ]
  },
  {
   "cell_type": "code",
   "execution_count": 13,
   "metadata": {},
   "outputs": [],
   "source": [
    "# digits= digits.iloc[:50000]\n",
    "digits['pixels']=digits.apply(make_pixel_array,axis=1)"
   ]
  },
  {
   "cell_type": "markdown",
   "metadata": {},
   "source": [
    "# Process image"
   ]
  },
  {
   "cell_type": "code",
   "execution_count": 14,
   "metadata": {},
   "outputs": [],
   "source": [
    "nrows = 28\n",
    "ncolumns = 28\n",
    "channels = 1\n",
    "def read_process_images(img_list,y,invert=False):\n",
    "    img_list,y = shuffle(img_list,y)\n",
    "#     y = [int(label) for label in y]\n",
    "    X=[]\n",
    "    for path in img_list:\n",
    "        image = 'HASYv2/' + path       ##can do color .IMREAD_COLOR\n",
    "        X.append(cv2.resize(cv2.imread(image,cv2.IMREAD_GRAYSCALE),(nrows,ncolumns),interpolation=cv2.INTER_CUBIC))\n",
    "    if invert==True:\n",
    "        return 255-np.array(X),np.array(y)\n",
    "    return np.array(X),np.array(y)"
   ]
  },
  {
   "cell_type": "code",
   "execution_count": 15,
   "metadata": {},
   "outputs": [],
   "source": [
    "X,y = read_process_images(digits['path'],digits['latex'],invert=True)\n",
    "# X_train, X_test, y_train, y_test = train_test_split(X, y, train_size=.8)\n",
    "# ntrain = len(X_train)\n",
    "# ntest = len(X_test)\n",
    "# batch_size = 32\n",
    "\n",
    "# plt.figure(figsize=(20,10))\n",
    "# cols = 5\n",
    "# for i in range(cols):\n",
    "#     if y_train[i][0]==\"\\\\\":\n",
    "#         label = y_train[i][1:]\n",
    "#     else:\n",
    "#         label = y_train[i]    \n",
    "#     plt.subplot(5/cols+1,cols,i+1)\n",
    "#     plt.imshow(X[i])\n",
    "#     plt.title(label,fontsize=20)\n",
    "\n",
    "# gc.collect();"
   ]
  },
  {
   "cell_type": "code",
   "execution_count": null,
   "metadata": {},
   "outputs": [],
   "source": []
  },
  {
   "cell_type": "code",
   "execution_count": null,
   "metadata": {},
   "outputs": [],
   "source": []
  },
  {
   "cell_type": "code",
   "execution_count": null,
   "metadata": {},
   "outputs": [],
   "source": []
  },
  {
   "cell_type": "code",
   "execution_count": null,
   "metadata": {},
   "outputs": [],
   "source": []
  },
  {
   "cell_type": "code",
   "execution_count": null,
   "metadata": {},
   "outputs": [],
   "source": []
  },
  {
   "cell_type": "code",
   "execution_count": null,
   "metadata": {},
   "outputs": [],
   "source": []
  },
  {
   "cell_type": "code",
   "execution_count": null,
   "metadata": {},
   "outputs": [],
   "source": []
  },
  {
   "cell_type": "code",
   "execution_count": null,
   "metadata": {},
   "outputs": [],
   "source": []
  },
  {
   "cell_type": "code",
   "execution_count": null,
   "metadata": {},
   "outputs": [],
   "source": []
  },
  {
   "cell_type": "markdown",
   "metadata": {},
   "source": [
    "# HaSYv2 Dataset"
   ]
  },
  {
   "cell_type": "code",
   "execution_count": 64,
   "metadata": {},
   "outputs": [
    {
     "data": {
      "image/png": "[encoded data removed]",
      "text/plain": [
       "<Figure size 720x720 with 9 Axes>"
      ]
     },
     "metadata": {},
     "output_type": "display_data"
    }
   ],
   "source": [
    "X,y = read_process_images(digits['path'],digits['latex'],invert=True)\n",
    "X_train, X_test, y_train, y_test = train_test_split(X, y, train_size=.8)\n",
    "fig = plt.figure(figsize=(10,10))\n",
    "for i in range(9):\n",
    "    if y_train[i][0]==\"\\\\\":\n",
    "        label = y_train[i][1:]\n",
    "    else:\n",
    "        label = y_train[i]\n",
    "    plt.subplot(3,3,i+1)\n",
    "    plt.tight_layout()\n",
    "    plt.imshow(X_train[i],interpolation='none')\n",
    "    plt.title(label)\n",
    "    plt.xticks([])\n",
    "    plt.yticks([])\n"
   ]
  },
  {
   "cell_type": "code",
   "execution_count": 67,
   "metadata": {},
   "outputs": [],
   "source": [
    "clf = DecisionTreeClassifier()\n",
    "clf.fit(X_train.flatten().reshape(len(X_train), -1), y_train)\n",
    "y_predict_hasy = clf.predict(X_test.flatten().reshape(len(X_test), -1))"
   ]
  },
  {
   "cell_type": "code",
   "execution_count": 68,
   "metadata": {},
   "outputs": [
    {
     "name": "stdout",
     "output_type": "stream",
     "text": [
      "0.348\n"
     ]
    }
   ],
   "source": [
    "print(accuracy_score(y_test,y_predict_hasy))"
   ]
  },
  {
   "cell_type": "markdown",
   "metadata": {},
   "source": [
    "# MNIST Dataset"
   ]
  },
  {
   "cell_type": "code",
   "execution_count": 16,
   "metadata": {},
   "outputs": [],
   "source": [
    "(X_tr,y_tr),(X_ts,y_ts) = mnist.load_data()"
   ]
  },
  {
   "cell_type": "code",
   "execution_count": 17,
   "metadata": {
    "scrolled": true
   },
   "outputs": [],
   "source": [
    "# fig = plt.figure()\n",
    "# for i in range(9):\n",
    "#     plt.subplot(3,3,i+1)\n",
    "#     plt.tight_layout()\n",
    "#     plt.imshow(X_tr[i],cmap='gray',interpolation='none')\n",
    "#     plt.title('Digit: {}'.format(y_tr[i]))\n",
    "#     plt.xticks([])\n",
    "#     plt.yticks([])"
   ]
  },
  {
   "cell_type": "code",
   "execution_count": null,
   "metadata": {},
   "outputs": [],
   "source": [
    "clf = DecisionTreeClassifier()\n",
    "clf.fit(X_tr.flatten().reshape(len(X_tr), -1), y_tr)\n",
    "yhat = clf.predict(X_ts.flatten().reshape(len(X_ts), -1))"
   ]
  },
  {
   "cell_type": "code",
   "execution_count": 60,
   "metadata": {},
   "outputs": [
    {
     "name": "stdout",
     "output_type": "stream",
     "text": [
      "0.8772\n"
     ]
    }
   ],
   "source": [
    "print(accuracy_score(y_ts,yhat))"
   ]
  },
  {
   "cell_type": "code",
   "execution_count": 161,
   "metadata": {},
   "outputs": [
    {
     "data": {
      "text/plain": [
       "array([5, 0, 4, ..., 5, 6, 8], dtype=uint8)"
      ]
     },
     "execution_count": 161,
     "metadata": {},
     "output_type": "execute_result"
    }
   ],
   "source": []
  },
  {
   "cell_type": "code",
   "execution_count": 131,
   "metadata": {},
   "outputs": [
    {
     "data": {
      "text/plain": [
       "(60000,)"
      ]
     },
     "execution_count": 131,
     "metadata": {},
     "output_type": "execute_result"
    }
   ],
   "source": [
    "y_tr.shape"
   ]
  },
  {
   "cell_type": "code",
   "execution_count": null,
   "metadata": {},
   "outputs": [],
   "source": []
  },
  {
   "cell_type": "code",
   "execution_count": null,
   "metadata": {},
   "outputs": [],
   "source": []
  },
  {
   "cell_type": "code",
   "execution_count": 30,
   "metadata": {},
   "outputs": [],
   "source": [
    "import tensorflow as tf\n",
    "keras = tf.keras\n",
    "from scipy import stats\n",
    "import numpy as np\n",
    "import matplotlib.pyplot as plt\n",
    "from sklearn.model_selection import train_test_split\n",
    "from tensorflow.keras import datasets, layers, models\n",
    "from sklearn.preprocessing import LabelEncoder\n",
    "from keras.utils import np_utils\n",
    "import pandas as pd\n",
    "%matplotlib inline"
   ]
  },
  {
   "cell_type": "markdown",
   "metadata": {},
   "source": [
    "# Join MNIST and HaSYv2 Datasets"
   ]
  },
  {
   "cell_type": "code",
   "execution_count": 18,
   "metadata": {
    "scrolled": false
   },
   "outputs": [],
   "source": [
    "X_JOINED = np.concatenate((X_tr, X,X_ts), axis=0)"
   ]
  },
  {
   "cell_type": "code",
   "execution_count": 19,
   "metadata": {},
   "outputs": [],
   "source": [
    "y_JOINED = np.concatenate((y_tr, y,y_ts), axis=0)"
   ]
  },
  {
   "cell_type": "code",
   "execution_count": 28,
   "metadata": {},
   "outputs": [],
   "source": [
    "x_train, x_test, y_train, y_test = train_test_split(X_JOINED, y_JOINED, train_size=.8)"
   ]
  },
  {
   "cell_type": "code",
   "execution_count": 26,
   "metadata": {},
   "outputs": [],
   "source": [
    "conv_model = models.Sequential()\n",
    "conv_model.add(layers.Conv2D(32, (3, 3), activation='relu', input_shape=(28, 28, 1)))\n",
    "conv_model.add(layers.MaxPooling2D((2, 2)))\n",
    "conv_model.add(layers.Conv2D(64, (3, 3), activation='relu'))\n",
    "conv_model.add(layers.MaxPooling2D((2, 2)))\n",
    "conv_model.add(layers.Conv2D(64, (3, 3), activation='relu'))\n",
    "conv_model.add(layers.Flatten())\n",
    "conv_model.add(layers.Dense(64, activation='relu'))\n",
    "conv_model.add(layers.Dense(10, activation='softmax'))\n",
    "conv_model.compile(optimizer='adam',\n",
    "              loss='categorical_crossentropy',\n",
    "              metrics=['accuracy'])\n"
   ]
  },
  {
   "cell_type": "code",
   "execution_count": 33,
   "metadata": {},
   "outputs": [],
   "source": [
    "x_train = x_train.astype('int32')\n",
    "x_test = x_test.astype('int32')\n",
    "\n",
    "y_train = y_train.astype('int32')\n",
    "y_test = y_test.astype('int32')"
   ]
  },
  {
   "cell_type": "code",
   "execution_count": 45,
   "metadata": {},
   "outputs": [
    {
     "name": "stdout",
     "output_type": "stream",
     "text": [
      "Train on 56816 samples\n",
      "Epoch 1/20\n",
      "56816/56816 [==============================] - 39s 688us/sample - loss: 0.0230 - accuracy: 0.9930\n",
      "Epoch 2/20\n",
      "56816/56816 [==============================] - 41s 724us/sample - loss: 0.0219 - accuracy: 0.9938\n",
      "Epoch 3/20\n",
      "56816/56816 [==============================] - 38s 672us/sample - loss: 0.0183 - accuracy: 0.9951\n",
      "Epoch 4/20\n",
      "56816/56816 [==============================] - 38s 663us/sample - loss: 0.0212 - accuracy: 0.9944\n",
      "Epoch 5/20\n",
      "56816/56816 [==============================] - 36s 642us/sample - loss: 0.0183 - accuracy: 0.9948\n",
      "Epoch 6/20\n",
      "56816/56816 [==============================] - 36s 641us/sample - loss: 0.0205 - accuracy: 0.9951\n",
      "Epoch 7/20\n",
      "56816/56816 [==============================] - 37s 649us/sample - loss: 0.0179 - accuracy: 0.9954\n",
      "Epoch 8/20\n",
      "56816/56816 [==============================] - 37s 647us/sample - loss: 0.0161 - accuracy: 0.9962\n",
      "Epoch 9/20\n",
      "56816/56816 [==============================] - 37s 650us/sample - loss: 0.0191 - accuracy: 0.9955\n",
      "Epoch 10/20\n",
      "56816/56816 [==============================] - 37s 649us/sample - loss: 0.0193 - accuracy: 0.9954\n",
      "Epoch 11/20\n",
      "56816/56816 [==============================] - 37s 657us/sample - loss: 0.0148 - accuracy: 0.9967\n",
      "Epoch 12/20\n",
      "56816/56816 [==============================] - 38s 671us/sample - loss: 0.0195 - accuracy: 0.9958\n",
      "Epoch 13/20\n",
      "56816/56816 [==============================] - 39s 693us/sample - loss: 0.0126 - accuracy: 0.9971\n",
      "Epoch 14/20\n",
      "56816/56816 [==============================] - 39s 684us/sample - loss: 0.0249 - accuracy: 0.9954\n",
      "Epoch 15/20\n",
      "56816/56816 [==============================] - 38s 669us/sample - loss: 0.0157 - accuracy: 0.9965\n",
      "Epoch 16/20\n",
      "56816/56816 [==============================] - 38s 673us/sample - loss: 0.0180 - accuracy: 0.9962\n",
      "Epoch 17/20\n",
      "56816/56816 [==============================] - 38s 674us/sample - loss: 0.0203 - accuracy: 0.9965\n",
      "Epoch 18/20\n",
      "56816/56816 [==============================] - 39s 690us/sample - loss: 0.0199 - accuracy: 0.9964\n",
      "Epoch 19/20\n",
      "56816/56816 [==============================] - 39s 681us/sample - loss: 0.0172 - accuracy: 0.9967\n",
      "Epoch 20/20\n",
      "56816/56816 [==============================] - 39s 681us/sample - loss: 0.0195 - accuracy: 0.9962\n"
     ]
    },
    {
     "data": {
      "text/plain": [
       "<tensorflow.python.keras.callbacks.History at 0x7fb286610b00>"
      ]
     },
     "execution_count": 45,
     "metadata": {},
     "output_type": "execute_result"
    }
   ],
   "source": [
    "x_train = np.array([x.reshape(28,28,1) for x in x_train])\n",
    "x_test = np.array([x.reshape(28,28,1) for x in x_test])\n",
    "encoder = LabelEncoder()\n",
    "encoder.fit(y_train)\n",
    "encoded_y_train = encoder.transform(y_train)\n",
    "# convert integers to dummy variables (i.e. one hot encoded)\n",
    "dummy_y_train = np_utils.to_categorical(y_train).astype('int32')\n",
    "\n",
    "encoder = LabelEncoder()\n",
    "encoder.fit(y_test)\n",
    "encoded_y_test = encoder.transform(y_test)\n",
    "# convert integers to dummy variables (i.e. one hot encoded)\n",
    "dummy_y_test = np_utils.to_categorical(y_test).astype('int32')\n",
    "conv_model.fit(x_train, dummy_y_train, batch_size=32, epochs=20)"
   ]
  },
  {
   "cell_type": "code",
   "execution_count": 46,
   "metadata": {},
   "outputs": [],
   "source": [
    "from datetime import datetime\n",
    "saved_model_path = \"./saved_models/mnist_hasyv2_20epochs_{}.h5\".format(datetime.now().strftime(\"%Y%m%d%s\")) # _%H%M%S\n",
    "# Save entire model to a HDF5 file\n",
    "conv_model.save(saved_model_path)"
   ]
  },
  {
   "cell_type": "code",
   "execution_count": 47,
   "metadata": {},
   "outputs": [],
   "source": [
    "def get_prediction(y):\n",
    "    return np.argmax(y)\n",
    "y_pred_prob = conv_model.predict(x_test.astype('float32'))\n",
    "y_pred = np.array([get_prediction(y) for y in y_pred_prob])"
   ]
  },
  {
   "cell_type": "code",
   "execution_count": 48,
   "metadata": {},
   "outputs": [
    {
     "data": {
      "text/plain": [
       "<matplotlib.legend.Legend at 0x7fb286599940>"
      ]
     },
     "execution_count": 48,
     "metadata": {},
     "output_type": "execute_result"
    },
    {
     "data": {
      "image/png": "[encoded data removed]",
      "text/plain": [
       "<Figure size 432x288 with 1 Axes>"
      ]
     },
     "metadata": {
      "needs_background": "light"
     },
     "output_type": "display_data"
    }
   ],
   "source": [
    "\n",
    "fig, ax = plt.subplots()\n",
    "ax.hist(y_pred[y_test == 0], alpha=0.3, bins=20, label=\"0\")\n",
    "ax.hist(y_pred[y_test == 1], alpha=0.3, bins=20, label=\"1\")\n",
    "ax.hist(y_pred[y_test == 2], alpha=0.3, bins=20, label=\"2\")\n",
    "ax.hist(y_pred[y_test == 3], alpha=0.3, bins=20, label=\"3\")\n",
    "ax.hist(y_pred[y_test == 4], alpha=0.3, bins=20, label=\"4\")\n",
    "ax.hist(y_pred[y_test == 5], alpha=0.3, bins=20, label=\"5\")\n",
    "ax.hist(y_pred[y_test == 6], alpha=0.3, bins=20, label=\"6\")\n",
    "ax.hist(y_pred[y_test == 7], alpha=0.3, bins=20, label=\"7\")\n",
    "ax.hist(y_pred[y_test == 8], alpha=0.3, bins=20, label=\"8\")\n",
    "ax.hist(y_pred[y_test == 9], alpha=0.3, bins=20, label=\"9\")\n",
    "ax.legend()"
   ]
  },
  {
   "cell_type": "code",
   "execution_count": 49,
   "metadata": {},
   "outputs": [],
   "source": [
    "results  = pd.DataFrame(y_test)\n",
    "results.columns = ['actual']\n",
    "results['predict']=y_pred\n",
    "results['match']=(results['actual']==results['predict'])*1"
   ]
  },
  {
   "cell_type": "code",
   "execution_count": 50,
   "metadata": {},
   "outputs": [
    {
     "data": {
      "text/html": [
       "<div>\n",
       "<style scoped>\n",
       "    .dataframe tbody tr th:only-of-type {\n",
       "        vertical-align: middle;\n",
       "    }\n",
       "\n",
       "    .dataframe tbody tr th {\n",
       "        vertical-align: top;\n",
       "    }\n",
       "\n",
       "    .dataframe thead th {\n",
       "        text-align: right;\n",
       "    }\n",
       "</style>\n",
       "<table border=\"1\" class=\"dataframe\">\n",
       "  <thead>\n",
       "    <tr style=\"text-align: right;\">\n",
       "      <th></th>\n",
       "      <th>actual</th>\n",
       "      <th>predict</th>\n",
       "      <th>match</th>\n",
       "    </tr>\n",
       "  </thead>\n",
       "  <tbody>\n",
       "    <tr>\n",
       "      <td>0</td>\n",
       "      <td>0</td>\n",
       "      <td>0</td>\n",
       "      <td>1</td>\n",
       "    </tr>\n",
       "    <tr>\n",
       "      <td>1</td>\n",
       "      <td>1</td>\n",
       "      <td>1</td>\n",
       "      <td>1</td>\n",
       "    </tr>\n",
       "    <tr>\n",
       "      <td>2</td>\n",
       "      <td>1</td>\n",
       "      <td>1</td>\n",
       "      <td>1</td>\n",
       "    </tr>\n",
       "    <tr>\n",
       "      <td>3</td>\n",
       "      <td>5</td>\n",
       "      <td>5</td>\n",
       "      <td>1</td>\n",
       "    </tr>\n",
       "    <tr>\n",
       "      <td>4</td>\n",
       "      <td>9</td>\n",
       "      <td>9</td>\n",
       "      <td>1</td>\n",
       "    </tr>\n",
       "    <tr>\n",
       "      <td>...</td>\n",
       "      <td>...</td>\n",
       "      <td>...</td>\n",
       "      <td>...</td>\n",
       "    </tr>\n",
       "    <tr>\n",
       "      <td>14199</td>\n",
       "      <td>6</td>\n",
       "      <td>6</td>\n",
       "      <td>1</td>\n",
       "    </tr>\n",
       "    <tr>\n",
       "      <td>14200</td>\n",
       "      <td>2</td>\n",
       "      <td>2</td>\n",
       "      <td>1</td>\n",
       "    </tr>\n",
       "    <tr>\n",
       "      <td>14201</td>\n",
       "      <td>8</td>\n",
       "      <td>8</td>\n",
       "      <td>1</td>\n",
       "    </tr>\n",
       "    <tr>\n",
       "      <td>14202</td>\n",
       "      <td>2</td>\n",
       "      <td>2</td>\n",
       "      <td>1</td>\n",
       "    </tr>\n",
       "    <tr>\n",
       "      <td>14203</td>\n",
       "      <td>7</td>\n",
       "      <td>7</td>\n",
       "      <td>1</td>\n",
       "    </tr>\n",
       "  </tbody>\n",
       "</table>\n",
       "<p>14204 rows × 3 columns</p>\n",
       "</div>"
      ],
      "text/plain": [
       "       actual  predict  match\n",
       "0           0        0      1\n",
       "1           1        1      1\n",
       "2           1        1      1\n",
       "3           5        5      1\n",
       "4           9        9      1\n",
       "...       ...      ...    ...\n",
       "14199       6        6      1\n",
       "14200       2        2      1\n",
       "14201       8        8      1\n",
       "14202       2        2      1\n",
       "14203       7        7      1\n",
       "\n",
       "[14204 rows x 3 columns]"
      ]
     },
     "execution_count": 50,
     "metadata": {},
     "output_type": "execute_result"
    }
   ],
   "source": [
    "results"
   ]
  },
  {
   "cell_type": "code",
   "execution_count": 51,
   "metadata": {},
   "outputs": [
    {
     "data": {
      "text/plain": [
       "1    14027\n",
       "0      177\n",
       "Name: match, dtype: int64"
      ]
     },
     "execution_count": 51,
     "metadata": {},
     "output_type": "execute_result"
    }
   ],
   "source": [
    "results['match'].value_counts()"
   ]
  },
  {
   "cell_type": "code",
   "execution_count": 52,
   "metadata": {},
   "outputs": [
    {
     "data": {
      "text/plain": [
       "0.9875387214869051"
      ]
     },
     "execution_count": 52,
     "metadata": {},
     "output_type": "execute_result"
    }
   ],
   "source": [
    "14027/len(results)"
   ]
  },
  {
   "cell_type": "code",
   "execution_count": null,
   "metadata": {},
   "outputs": [],
   "source": []
  },
  {
   "cell_type": "code",
   "execution_count": null,
   "metadata": {},
   "outputs": [],
   "source": []
  },
  {
   "cell_type": "code",
   "execution_count": 254,
   "metadata": {
    "scrolled": true
   },
   "outputs": [
    {
     "data": {
      "text/plain": [
       "0.8713038580681498"
      ]
     },
     "execution_count": 254,
     "metadata": {},
     "output_type": "execute_result"
    }
   ],
   "source": [
    "get_clf(X_train1, X_test1, y_train1, y_test1)[1]"
   ]
  },
  {
   "cell_type": "markdown",
   "metadata": {},
   "source": [
    "# INKml to png conversion"
   ]
  },
  {
   "cell_type": "code",
   "execution_count": 3,
   "metadata": {},
   "outputs": [],
   "source": [
    "import inkml.inkml2img as conv\n",
    "import subprocess\n",
    "import os"
   ]
  },
  {
   "cell_type": "code",
   "execution_count": null,
   "metadata": {},
   "outputs": [],
   "source": []
  },
  {
   "cell_type": "code",
   "execution_count": 10,
   "metadata": {},
   "outputs": [],
   "source": [
    "ink_files = []\n",
    "f = os.popen(\"ls INKdata/trainData_2012_part1/*.inkml\")\n",
    "for i in f.readlines():\n",
    "    ink_files.append(i[:-1])\n",
    "f.close()    "
   ]
  },
  {
   "cell_type": "code",
   "execution_count": null,
   "metadata": {},
   "outputs": [],
   "source": []
  },
  {
   "cell_type": "code",
   "execution_count": 11,
   "metadata": {},
   "outputs": [
    {
     "name": "stdout",
     "output_type": "stream",
     "text": [
      "TrainData1_8_sub_12.png   TrainData2_17_sub_88.png  TrainData2_25_sub_9.png\r\n",
      "TrainData1_8_sub_15.png   TrainData2_17_sub_95.png  TrainData2_26_sub_11.png\r\n",
      "TrainData1_8_sub_19.png   TrainData2_17_sub_98.png  TrainData2_26_sub_13.png\r\n",
      "TrainData1_8_sub_21.png   TrainData2_17_sub_9.png   TrainData2_26_sub_15.png\r\n",
      "TrainData1_8_sub_24.png   TrainData2_18_sub_11.png  TrainData2_26_sub_17.png\r\n",
      "TrainData1_8_sub_28.png   TrainData2_18_sub_13.png  TrainData2_26_sub_1.png\r\n",
      "TrainData1_8_sub_9.png\t  TrainData2_18_sub_15.png  TrainData2_26_sub_20.png\r\n",
      "TrainData2_0_sub_11.png   TrainData2_18_sub_17.png  TrainData2_26_sub_29.png\r\n",
      "TrainData2_0_sub_13.png   TrainData2_18_sub_1.png   TrainData2_26_sub_33.png\r\n",
      "TrainData2_0_sub_15.png   TrainData2_18_sub_20.png  TrainData2_26_sub_39.png\r\n",
      "TrainData2_0_sub_17.png   TrainData2_18_sub_29.png  TrainData2_26_sub_41.png\r\n",
      "TrainData2_0_sub_1.png\t  TrainData2_18_sub_33.png  TrainData2_26_sub_43.png\r\n",
      "TrainData2_0_sub_20.png   TrainData2_18_sub_39.png  TrainData2_26_sub_46.png\r\n",
      "TrainData2_0_sub_29.png   TrainData2_18_sub_41.png  TrainData2_26_sub_49.png\r\n",
      "TrainData2_0_sub_33.png   TrainData2_18_sub_43.png  TrainData2_26_sub_51.png\r\n",
      "TrainData2_0_sub_39.png   TrainData2_18_sub_46.png  TrainData2_26_sub_61.png\r\n",
      "TrainData2_0_sub_41.png   TrainData2_18_sub_49.png  TrainData2_26_sub_63.png\r\n",
      "TrainData2_0_sub_43.png   TrainData2_18_sub_51.png  TrainData2_26_sub_6.png\r\n",
      "TrainData2_0_sub_46.png   TrainData2_18_sub_61.png  TrainData2_26_sub_71.png\r\n",
      "TrainData2_0_sub_49.png   TrainData2_18_sub_63.png  TrainData2_26_sub_73.png\r\n",
      "TrainData2_0_sub_51.png   TrainData2_18_sub_6.png   TrainData2_26_sub_88.png\r\n",
      "TrainData2_0_sub_61.png   TrainData2_18_sub_71.png  TrainData2_26_sub_95.png\r\n",
      "TrainData2_0_sub_63.png   TrainData2_18_sub_73.png  TrainData2_26_sub_98.png\r\n",
      "TrainData2_0_sub_6.png\t  TrainData2_18_sub_88.png  TrainData2_26_sub_9.png\r\n",
      "TrainData2_0_sub_71.png   TrainData2_18_sub_95.png  TrainData2_2_sub_11.png\r\n",
      "TrainData2_0_sub_73.png   TrainData2_18_sub_98.png  TrainData2_2_sub_13.png\r\n",
      "TrainData2_0_sub_88.png   TrainData2_18_sub_9.png   TrainData2_2_sub_15.png\r\n",
      "TrainData2_0_sub_95.png   TrainData2_19_sub_11.png  TrainData2_2_sub_17.png\r\n",
      "TrainData2_0_sub_98.png   TrainData2_19_sub_13.png  TrainData2_2_sub_1.png\r\n",
      "TrainData2_0_sub_9.png\t  TrainData2_19_sub_15.png  TrainData2_2_sub_20.png\r\n",
      "TrainData2_10_sub_11.png  TrainData2_19_sub_17.png  TrainData2_2_sub_29.png\r\n",
      "TrainData2_10_sub_13.png  TrainData2_19_sub_1.png   TrainData2_2_sub_33.png\r\n",
      "TrainData2_10_sub_15.png  TrainData2_19_sub_20.png  TrainData2_2_sub_39.png\r\n",
      "TrainData2_10_sub_17.png  TrainData2_19_sub_29.png  TrainData2_2_sub_41.png\r\n",
      "TrainData2_10_sub_1.png   TrainData2_19_sub_33.png  TrainData2_2_sub_43.png\r\n",
      "TrainData2_10_sub_20.png  TrainData2_19_sub_39.png  TrainData2_2_sub_46.png\r\n",
      "TrainData2_10_sub_29.png  TrainData2_19_sub_41.png  TrainData2_2_sub_49.png\r\n",
      "TrainData2_10_sub_33.png  TrainData2_19_sub_43.png  TrainData2_2_sub_51.png\r\n",
      "TrainData2_10_sub_39.png  TrainData2_19_sub_46.png  TrainData2_2_sub_61.png\r\n",
      "TrainData2_10_sub_41.png  TrainData2_19_sub_49.png  TrainData2_2_sub_63.png\r\n",
      "TrainData2_10_sub_43.png  TrainData2_19_sub_51.png  TrainData2_2_sub_6.png\r\n",
      "TrainData2_10_sub_46.png  TrainData2_19_sub_61.png  TrainData2_2_sub_71.png\r\n",
      "TrainData2_10_sub_49.png  TrainData2_19_sub_63.png  TrainData2_2_sub_73.png\r\n",
      "TrainData2_10_sub_51.png  TrainData2_19_sub_6.png   TrainData2_2_sub_88.png\r\n",
      "TrainData2_10_sub_61.png  TrainData2_19_sub_71.png  TrainData2_2_sub_95.png\r\n",
      "TrainData2_10_sub_63.png  TrainData2_19_sub_73.png  TrainData2_2_sub_98.png\r\n",
      "TrainData2_10_sub_6.png   TrainData2_19_sub_88.png  TrainData2_2_sub_9.png\r\n",
      "TrainData2_10_sub_71.png  TrainData2_19_sub_95.png  TrainData2_3_sub_11.png\r\n",
      "TrainData2_10_sub_73.png  TrainData2_19_sub_98.png  TrainData2_3_sub_13.png\r\n",
      "TrainData2_10_sub_88.png  TrainData2_19_sub_9.png   TrainData2_3_sub_15.png\r\n",
      "TrainData2_10_sub_95.png  TrainData2_1_sub_11.png   TrainData2_3_sub_17.png\r\n",
      "TrainData2_10_sub_98.png  TrainData2_1_sub_13.png   TrainData2_3_sub_1.png\r\n",
      "TrainData2_10_sub_9.png   TrainData2_1_sub_15.png   TrainData2_3_sub_20.png\r\n",
      "TrainData2_11_sub_11.png  TrainData2_1_sub_17.png   TrainData2_3_sub_29.png\r\n",
      "TrainData2_11_sub_13.png  TrainData2_1_sub_1.png    TrainData2_3_sub_33.png\r\n",
      "TrainData2_11_sub_15.png  TrainData2_1_sub_20.png   TrainData2_3_sub_39.png\r\n",
      "TrainData2_11_sub_17.png  TrainData2_1_sub_29.png   TrainData2_3_sub_41.png\r\n",
      "TrainData2_11_sub_1.png   TrainData2_1_sub_33.png   TrainData2_3_sub_43.png\r\n",
      "TrainData2_11_sub_20.png  TrainData2_1_sub_39.png   TrainData2_3_sub_46.png\r\n",
      "TrainData2_11_sub_29.png  TrainData2_1_sub_41.png   TrainData2_3_sub_49.png\r\n",
      "TrainData2_11_sub_33.png  TrainData2_1_sub_43.png   TrainData2_3_sub_51.png\r\n",
      "TrainData2_11_sub_39.png  TrainData2_1_sub_46.png   TrainData2_3_sub_61.png\r\n",
      "TrainData2_11_sub_41.png  TrainData2_1_sub_49.png   TrainData2_3_sub_63.png\r\n",
      "TrainData2_11_sub_43.png  TrainData2_1_sub_51.png   TrainData2_3_sub_6.png\r\n",
      "TrainData2_11_sub_46.png  TrainData2_1_sub_61.png   TrainData2_3_sub_71.png\r\n",
      "TrainData2_11_sub_49.png  TrainData2_1_sub_63.png   TrainData2_3_sub_73.png\r\n",
      "TrainData2_11_sub_51.png  TrainData2_1_sub_6.png    TrainData2_3_sub_88.png\r\n",
      "TrainData2_11_sub_61.png  TrainData2_1_sub_71.png   TrainData2_3_sub_95.png\r\n",
      "TrainData2_11_sub_63.png  TrainData2_1_sub_73.png   TrainData2_3_sub_98.png\r\n",
      "TrainData2_11_sub_6.png   TrainData2_1_sub_88.png   TrainData2_3_sub_9.png\r\n",
      "TrainData2_11_sub_71.png  TrainData2_1_sub_95.png   TrainData2_4_sub_11.png\r\n",
      "TrainData2_11_sub_73.png  TrainData2_1_sub_98.png   TrainData2_4_sub_13.png\r\n",
      "TrainData2_11_sub_88.png  TrainData2_1_sub_9.png    TrainData2_4_sub_15.png\r\n",
      "TrainData2_11_sub_95.png  TrainData2_20_sub_11.png  TrainData2_4_sub_17.png\r\n",
      "TrainData2_11_sub_98.png  TrainData2_20_sub_13.png  TrainData2_4_sub_1.png\r\n",
      "TrainData2_11_sub_9.png   TrainData2_20_sub_15.png  TrainData2_4_sub_20.png\r\n",
      "TrainData2_12_sub_11.png  TrainData2_20_sub_17.png  TrainData2_4_sub_29.png\r\n",
      "TrainData2_12_sub_13.png  TrainData2_20_sub_1.png   TrainData2_4_sub_33.png\r\n",
      "TrainData2_12_sub_15.png  TrainData2_20_sub_20.png  TrainData2_4_sub_39.png\r\n",
      "TrainData2_12_sub_17.png  TrainData2_20_sub_29.png  TrainData2_4_sub_41.png\r\n",
      "TrainData2_12_sub_1.png   TrainData2_20_sub_33.png  TrainData2_4_sub_43.png\r\n",
      "TrainData2_12_sub_20.png  TrainData2_20_sub_39.png  TrainData2_4_sub_46.png\r\n",
      "TrainData2_12_sub_29.png  TrainData2_20_sub_41.png  TrainData2_4_sub_49.png\r\n",
      "TrainData2_12_sub_33.png  TrainData2_20_sub_43.png  TrainData2_4_sub_51.png\r\n",
      "TrainData2_12_sub_39.png  TrainData2_20_sub_46.png  TrainData2_4_sub_61.png\r\n",
      "TrainData2_12_sub_41.png  TrainData2_20_sub_49.png  TrainData2_4_sub_63.png\r\n",
      "TrainData2_12_sub_43.png  TrainData2_20_sub_51.png  TrainData2_4_sub_6.png\r\n",
      "TrainData2_12_sub_46.png  TrainData2_20_sub_61.png  TrainData2_4_sub_71.png\r\n",
      "TrainData2_12_sub_49.png  TrainData2_20_sub_63.png  TrainData2_4_sub_73.png\r\n",
      "TrainData2_12_sub_51.png  TrainData2_20_sub_6.png   TrainData2_4_sub_88.png\r\n",
      "TrainData2_12_sub_61.png  TrainData2_20_sub_71.png  TrainData2_4_sub_95.png\r\n",
      "TrainData2_12_sub_63.png  TrainData2_20_sub_73.png  TrainData2_4_sub_98.png\r\n",
      "TrainData2_12_sub_6.png   TrainData2_20_sub_88.png  TrainData2_4_sub_9.png\r\n",
      "TrainData2_12_sub_71.png  TrainData2_20_sub_95.png  TrainData2_5_sub_11.png\r\n",
      "TrainData2_12_sub_73.png  TrainData2_20_sub_98.png  TrainData2_5_sub_13.png\r\n",
      "TrainData2_12_sub_88.png  TrainData2_20_sub_9.png   TrainData2_5_sub_15.png\r\n",
      "TrainData2_12_sub_95.png  TrainData2_21_sub_11.png  TrainData2_5_sub_17.png\r\n",
      "TrainData2_12_sub_98.png  TrainData2_21_sub_13.png  TrainData2_5_sub_1.png\r\n",
      "TrainData2_12_sub_9.png   TrainData2_21_sub_15.png  TrainData2_5_sub_20.png\r\n",
      "TrainData2_13_sub_11.png  TrainData2_21_sub_17.png  TrainData2_5_sub_29.png\r\n",
      "TrainData2_13_sub_13.png  TrainData2_21_sub_1.png   TrainData2_5_sub_33.png\r\n",
      "TrainData2_13_sub_15.png  TrainData2_21_sub_20.png  TrainData2_5_sub_39.png\r\n",
      "TrainData2_13_sub_17.png  TrainData2_21_sub_29.png  TrainData2_5_sub_41.png\r\n",
      "TrainData2_13_sub_1.png   TrainData2_21_sub_33.png  TrainData2_5_sub_43.png\r\n",
      "TrainData2_13_sub_20.png  TrainData2_21_sub_39.png  TrainData2_5_sub_46.png\r\n",
      "TrainData2_13_sub_29.png  TrainData2_21_sub_41.png  TrainData2_5_sub_49.png\r\n",
      "TrainData2_13_sub_33.png  TrainData2_21_sub_43.png  TrainData2_5_sub_51.png\r\n",
      "TrainData2_13_sub_39.png  TrainData2_21_sub_46.png  TrainData2_5_sub_61.png\r\n",
      "TrainData2_13_sub_41.png  TrainData2_21_sub_49.png  TrainData2_5_sub_63.png\r\n",
      "TrainData2_13_sub_43.png  TrainData2_21_sub_51.png  TrainData2_5_sub_6.png\r\n",
      "TrainData2_13_sub_46.png  TrainData2_21_sub_61.png  TrainData2_5_sub_71.png\r\n",
      "TrainData2_13_sub_49.png  TrainData2_21_sub_63.png  TrainData2_5_sub_73.png\r\n",
      "TrainData2_13_sub_51.png  TrainData2_21_sub_6.png   TrainData2_5_sub_88.png\r\n",
      "TrainData2_13_sub_61.png  TrainData2_21_sub_71.png  TrainData2_5_sub_95.png\r\n",
      "TrainData2_13_sub_63.png  TrainData2_21_sub_73.png  TrainData2_5_sub_98.png\r\n",
      "TrainData2_13_sub_6.png   TrainData2_21_sub_88.png  TrainData2_5_sub_9.png\r\n",
      "TrainData2_13_sub_71.png  TrainData2_21_sub_95.png  TrainData2_6_sub_11.png\r\n",
      "TrainData2_13_sub_73.png  TrainData2_21_sub_98.png  TrainData2_6_sub_13.png\r\n",
      "TrainData2_13_sub_88.png  TrainData2_21_sub_9.png   TrainData2_6_sub_15.png\r\n",
      "TrainData2_13_sub_95.png  TrainData2_22_sub_11.png  TrainData2_6_sub_17.png\r\n",
      "TrainData2_13_sub_98.png  TrainData2_22_sub_13.png  TrainData2_6_sub_1.png\r\n",
      "TrainData2_13_sub_9.png   TrainData2_22_sub_15.png  TrainData2_6_sub_20.png\r\n",
      "TrainData2_14_sub_11.png  TrainData2_22_sub_17.png  TrainData2_6_sub_29.png\r\n",
      "TrainData2_14_sub_13.png  TrainData2_22_sub_1.png   TrainData2_6_sub_33.png\r\n",
      "TrainData2_14_sub_15.png  TrainData2_22_sub_20.png  TrainData2_6_sub_39.png\r\n",
      "TrainData2_14_sub_17.png  TrainData2_22_sub_29.png  TrainData2_6_sub_41.png\r\n",
      "TrainData2_14_sub_1.png   TrainData2_22_sub_33.png  TrainData2_6_sub_43.png\r\n",
      "TrainData2_14_sub_20.png  TrainData2_22_sub_39.png  TrainData2_6_sub_46.png\r\n",
      "TrainData2_14_sub_29.png  TrainData2_22_sub_41.png  TrainData2_6_sub_49.png\r\n",
      "TrainData2_14_sub_33.png  TrainData2_22_sub_43.png  TrainData2_6_sub_51.png\r\n",
      "TrainData2_14_sub_39.png  TrainData2_22_sub_46.png  TrainData2_6_sub_61.png\r\n",
      "TrainData2_14_sub_41.png  TrainData2_22_sub_49.png  TrainData2_6_sub_63.png\r\n",
      "TrainData2_14_sub_43.png  TrainData2_22_sub_51.png  TrainData2_6_sub_6.png\r\n",
      "TrainData2_14_sub_46.png  TrainData2_22_sub_61.png  TrainData2_6_sub_71.png\r\n",
      "TrainData2_14_sub_49.png  TrainData2_22_sub_63.png  TrainData2_6_sub_73.png\r\n",
      "TrainData2_14_sub_51.png  TrainData2_22_sub_6.png   TrainData2_6_sub_88.png\r\n",
      "TrainData2_14_sub_61.png  TrainData2_22_sub_71.png  TrainData2_6_sub_95.png\r\n",
      "TrainData2_14_sub_63.png  TrainData2_22_sub_73.png  TrainData2_6_sub_98.png\r\n",
      "TrainData2_14_sub_6.png   TrainData2_22_sub_88.png  TrainData2_6_sub_9.png\r\n",
      "TrainData2_14_sub_71.png  TrainData2_22_sub_95.png  TrainData2_7_sub_11.png\r\n",
      "TrainData2_14_sub_73.png  TrainData2_22_sub_98.png  TrainData2_7_sub_13.png\r\n",
      "TrainData2_14_sub_88.png  TrainData2_22_sub_9.png   TrainData2_7_sub_15.png\r\n",
      "TrainData2_14_sub_95.png  TrainData2_23_sub_11.png  TrainData2_7_sub_17.png\r\n",
      "TrainData2_14_sub_98.png  TrainData2_23_sub_13.png  TrainData2_7_sub_1.png\r\n",
      "TrainData2_14_sub_9.png   TrainData2_23_sub_15.png  TrainData2_7_sub_20.png\r\n",
      "TrainData2_15_sub_11.png  TrainData2_23_sub_17.png  TrainData2_7_sub_29.png\r\n",
      "TrainData2_15_sub_13.png  TrainData2_23_sub_1.png   TrainData2_7_sub_33.png\r\n",
      "TrainData2_15_sub_15.png  TrainData2_23_sub_20.png  TrainData2_7_sub_39.png\r\n",
      "TrainData2_15_sub_17.png  TrainData2_23_sub_29.png  TrainData2_7_sub_41.png\r\n",
      "TrainData2_15_sub_1.png   TrainData2_23_sub_33.png  TrainData2_7_sub_43.png\r\n",
      "TrainData2_15_sub_20.png  TrainData2_23_sub_39.png  TrainData2_7_sub_46.png\r\n",
      "TrainData2_15_sub_29.png  TrainData2_23_sub_41.png  TrainData2_7_sub_49.png\r\n",
      "TrainData2_15_sub_33.png  TrainData2_23_sub_43.png  TrainData2_7_sub_51.png\r\n",
      "TrainData2_15_sub_39.png  TrainData2_23_sub_46.png  TrainData2_7_sub_61.png\r\n",
      "TrainData2_15_sub_41.png  TrainData2_23_sub_49.png  TrainData2_7_sub_63.png\r\n",
      "TrainData2_15_sub_43.png  TrainData2_23_sub_51.png  TrainData2_7_sub_6.png\r\n",
      "TrainData2_15_sub_46.png  TrainData2_23_sub_61.png  TrainData2_7_sub_71.png\r\n",
      "TrainData2_15_sub_49.png  TrainData2_23_sub_63.png  TrainData2_7_sub_73.png\r\n",
      "TrainData2_15_sub_51.png  TrainData2_23_sub_6.png   TrainData2_7_sub_88.png\r\n",
      "TrainData2_15_sub_61.png  TrainData2_23_sub_71.png  TrainData2_7_sub_95.png\r\n",
      "TrainData2_15_sub_63.png  TrainData2_23_sub_73.png  TrainData2_7_sub_98.png\r\n",
      "TrainData2_15_sub_6.png   TrainData2_23_sub_88.png  TrainData2_7_sub_9.png\r\n",
      "TrainData2_15_sub_71.png  TrainData2_23_sub_95.png  TrainData2_8_sub_11.png\r\n",
      "TrainData2_15_sub_73.png  TrainData2_23_sub_98.png  TrainData2_8_sub_13.png\r\n",
      "TrainData2_15_sub_88.png  TrainData2_23_sub_9.png   TrainData2_8_sub_15.png\r\n",
      "TrainData2_15_sub_95.png  TrainData2_24_sub_11.png  TrainData2_8_sub_17.png\r\n",
      "TrainData2_15_sub_98.png  TrainData2_24_sub_13.png  TrainData2_8_sub_1.png\r\n",
      "TrainData2_15_sub_9.png   TrainData2_24_sub_15.png  TrainData2_8_sub_20.png\r\n",
      "TrainData2_16_sub_11.png  TrainData2_24_sub_17.png  TrainData2_8_sub_29.png\r\n",
      "TrainData2_16_sub_13.png  TrainData2_24_sub_1.png   TrainData2_8_sub_33.png\r\n",
      "TrainData2_16_sub_15.png  TrainData2_24_sub_20.png  TrainData2_8_sub_39.png\r\n",
      "TrainData2_16_sub_17.png  TrainData2_24_sub_29.png  TrainData2_8_sub_41.png\r\n",
      "TrainData2_16_sub_1.png   TrainData2_24_sub_33.png  TrainData2_8_sub_43.png\r\n",
      "TrainData2_16_sub_20.png  TrainData2_24_sub_39.png  TrainData2_8_sub_46.png\r\n",
      "TrainData2_16_sub_29.png  TrainData2_24_sub_41.png  TrainData2_8_sub_49.png\r\n",
      "TrainData2_16_sub_33.png  TrainData2_24_sub_43.png  TrainData2_8_sub_51.png\r\n",
      "TrainData2_16_sub_39.png  TrainData2_24_sub_46.png  TrainData2_8_sub_61.png\r\n",
      "TrainData2_16_sub_41.png  TrainData2_24_sub_49.png  TrainData2_8_sub_63.png\r\n",
      "TrainData2_16_sub_43.png  TrainData2_24_sub_51.png  TrainData2_8_sub_6.png\r\n",
      "TrainData2_16_sub_46.png  TrainData2_24_sub_61.png  TrainData2_8_sub_71.png\r\n",
      "TrainData2_16_sub_49.png  TrainData2_24_sub_63.png  TrainData2_8_sub_73.png\r\n",
      "TrainData2_16_sub_51.png  TrainData2_24_sub_6.png   TrainData2_8_sub_88.png\r\n",
      "TrainData2_16_sub_61.png  TrainData2_24_sub_71.png  TrainData2_8_sub_95.png\r\n",
      "TrainData2_16_sub_63.png  TrainData2_24_sub_73.png  TrainData2_8_sub_98.png\r\n",
      "TrainData2_16_sub_6.png   TrainData2_24_sub_88.png  TrainData2_8_sub_9.png\r\n",
      "TrainData2_16_sub_71.png  TrainData2_24_sub_95.png  TrainData2_9_sub_11.png\r\n",
      "TrainData2_16_sub_73.png  TrainData2_24_sub_98.png  TrainData2_9_sub_13.png\r\n",
      "TrainData2_16_sub_88.png  TrainData2_24_sub_9.png   TrainData2_9_sub_15.png\r\n",
      "TrainData2_16_sub_95.png  TrainData2_25_sub_11.png  TrainData2_9_sub_17.png\r\n",
      "TrainData2_16_sub_98.png  TrainData2_25_sub_13.png  TrainData2_9_sub_1.png\r\n",
      "TrainData2_16_sub_9.png   TrainData2_25_sub_15.png  TrainData2_9_sub_20.png\r\n",
      "TrainData2_17_sub_11.png  TrainData2_25_sub_17.png  TrainData2_9_sub_29.png\r\n",
      "TrainData2_17_sub_13.png  TrainData2_25_sub_1.png   TrainData2_9_sub_33.png\r\n",
      "TrainData2_17_sub_15.png  TrainData2_25_sub_20.png  TrainData2_9_sub_39.png\r\n",
      "TrainData2_17_sub_17.png  TrainData2_25_sub_29.png  TrainData2_9_sub_41.png\r\n",
      "TrainData2_17_sub_1.png   TrainData2_25_sub_33.png  TrainData2_9_sub_43.png\r\n",
      "TrainData2_17_sub_20.png  TrainData2_25_sub_39.png  TrainData2_9_sub_46.png\r\n",
      "TrainData2_17_sub_29.png  TrainData2_25_sub_41.png  TrainData2_9_sub_49.png\r\n",
      "TrainData2_17_sub_33.png  TrainData2_25_sub_43.png  TrainData2_9_sub_51.png\r\n",
      "TrainData2_17_sub_39.png  TrainData2_25_sub_46.png  TrainData2_9_sub_61.png\r\n",
      "TrainData2_17_sub_41.png  TrainData2_25_sub_49.png  TrainData2_9_sub_63.png\r\n",
      "TrainData2_17_sub_43.png  TrainData2_25_sub_51.png  TrainData2_9_sub_6.png\r\n",
      "TrainData2_17_sub_46.png  TrainData2_25_sub_61.png  TrainData2_9_sub_71.png\r\n",
      "TrainData2_17_sub_49.png  TrainData2_25_sub_63.png  TrainData2_9_sub_73.png\r\n",
      "TrainData2_17_sub_51.png  TrainData2_25_sub_6.png   TrainData2_9_sub_88.png\r\n",
      "TrainData2_17_sub_61.png  TrainData2_25_sub_71.png  TrainData2_9_sub_95.png\r\n",
      "TrainData2_17_sub_63.png  TrainData2_25_sub_73.png  TrainData2_9_sub_98.png\r\n",
      "TrainData2_17_sub_6.png   TrainData2_25_sub_88.png  TrainData2_9_sub_9.png\r\n",
      "TrainData2_17_sub_71.png  TrainData2_25_sub_95.png  vector01.png\r\n",
      "TrainData2_17_sub_73.png  TrainData2_25_sub_98.png  vector03.png\r\n"
     ]
    }
   ],
   "source": [
    "!ls train2012_png/"
   ]
  },
  {
   "cell_type": "code",
   "execution_count": 12,
   "metadata": {},
   "outputs": [],
   "source": [
    "from skimage import io\n",
    "from skimage import filters, color\n",
    "from scipy import ndimage as ndi\n"
   ]
  },
  {
   "cell_type": "code",
   "execution_count": 6,
   "metadata": {},
   "outputs": [
    {
     "data": {
      "image/png": "[encoded data removed]",
      "text/plain": [
       "<Figure size 432x288 with 1 Axes>"
      ]
     },
     "metadata": {
      "needs_background": "light"
     },
     "output_type": "display_data"
    },
    {
     "data": {
      "image/png": "[encoded data removed]",
      "text/plain": [
       "<Figure size 432x288 with 1 Axes>"
      ]
     },
     "metadata": {
      "needs_background": "light"
     },
     "output_type": "display_data"
    },
    {
     "name": "stdout",
     "output_type": "stream",
     "text": [
      "number of objects 11\n"
     ]
    }
   ],
   "source": [
    "# digit = io.imread('train2012_png/TrainData2_2_sub_61.png')\n",
    "io.imshow(digit)\n",
    "io.show()\n",
    "digit.ndim\n",
    "gray_image = color.rgb2gray(digit)\n",
    "thresh = filters.threshold_mean(gray_image)\n",
    "binary_image = gray_image > thresh\n",
    "\n",
    "io.imshow(binary_image)\n",
    "io.show()\n",
    "label_objects, nb_labels = ndi.label(np.invert(binary_image))\n",
    "print(\"number of objects\", nb_labels)"
   ]
  },
  {
   "cell_type": "code",
   "execution_count": 258,
   "metadata": {
    "scrolled": false
   },
   "outputs": [
    {
     "name": "stdout",
     "output_type": "stream",
     "text": [
      "number of objects 11\n"
     ]
    },
    {
     "data": {
      "image/png": "[encoded data removed]",
      "text/plain": [
       "<Figure size 576x576 with 1 Axes>"
      ]
     },
     "metadata": {
      "needs_background": "light"
     },
     "output_type": "display_data"
    }
   ],
   "source": []
  },
  {
   "cell_type": "code",
   "execution_count": 7,
   "metadata": {},
   "outputs": [],
   "source": [
    "arr = np.array(label_objects)"
   ]
  },
  {
   "cell_type": "code",
   "execution_count": 8,
   "metadata": {},
   "outputs": [
    {
     "data": {
      "image/png": "[encoded data removed]",
      "text/plain": [
       "<Figure size 432x288 with 1 Axes>"
      ]
     },
     "metadata": {
      "needs_background": "light"
     },
     "output_type": "display_data"
    }
   ],
   "source": [
    "\n",
    "# fig,axes = plt.subplots(nb_labels,1,figsize=(20,7*nb_labels))\n",
    "# for ax in axes.flatten():\n",
    "#     for segment in range(1,nb_labels+1):\n",
    "#         ax.imshow(arr==segment)\n",
    "two = arr==8\n",
    "three = arr==7\n",
    "plt.imshow(three);"
   ]
  },
  {
   "cell_type": "code",
   "execution_count": 347,
   "metadata": {},
   "outputs": [
    {
     "data": {
      "image/png": "[encoded data removed]",
      "text/plain": [
       "<Figure size 1440x720 with 1 Axes>"
      ]
     },
     "metadata": {},
     "output_type": "display_data"
    }
   ],
   "source": [
    "plt.rcParams[\"figure.figsize\"] = (20,10)\n",
    "pixarray=np.rot90(label_objects,3)\n",
    "imax,jmax = pixarray.shape\n",
    "plt.xticks(np.arange(0,imax))\n",
    "plt.yticks(np.arange(0,jmax))\n",
    "np.random.shuffle(colors)\n",
    "ind = range(nb_labels)\n",
    "for i in range(imax):\n",
    "    for j in range(jmax):\n",
    "        val = pixarray[i][j]\n",
    "        if val != 0:\n",
    "            plt.text(i,j,val,fontsize=10,color=colors[val])\n",
    "plt.xticks([])\n",
    "plt.yticks([])            \n",
    "plt.show()\n"
   ]
  },
  {
   "cell_type": "code",
   "execution_count": 343,
   "metadata": {},
   "outputs": [
    {
     "data": {
      "text/plain": [
       "(484, 182)"
      ]
     },
     "execution_count": 343,
     "metadata": {},
     "output_type": "execute_result"
    }
   ],
   "source": [
    "np.rot90(label_objects).shape"
   ]
  },
  {
   "cell_type": "code",
   "execution_count": 332,
   "metadata": {},
   "outputs": [],
   "source": [
    "import matplotlib.colors as mcolors\n",
    "from matplotlib.patches import Circle\n",
    "from itertools import chain\n",
    "colors = np.array(list(chain(mcolors.CSS4_COLORS.values())))"
   ]
  },
  {
   "cell_type": "code",
   "execution_count": 348,
   "metadata": {},
   "outputs": [
    {
     "data": {
      "text/plain": [
       "(182, 484)"
      ]
     },
     "execution_count": 348,
     "metadata": {},
     "output_type": "execute_result"
    }
   ],
   "source": []
  },
  {
   "cell_type": "code",
   "execution_count": 8,
   "metadata": {},
   "outputs": [
    {
     "ename": "NameError",
     "evalue": "name 'arr' is not defined",
     "output_type": "error",
     "traceback": [
      "\u001b[0;31m---------------------------------------------------------------------------\u001b[0m",
      "\u001b[0;31mNameError\u001b[0m                                 Traceback (most recent call last)",
      "\u001b[0;32m<ipython-input-8-67f68863c8ba>\u001b[0m in \u001b[0;36m<module>\u001b[0;34m\u001b[0m\n\u001b[0;32m----> 1\u001b[0;31m \u001b[0mthree\u001b[0m \u001b[0;34m=\u001b[0m \u001b[0marr\u001b[0m\u001b[0;34m==\u001b[0m\u001b[0;36m7\u001b[0m\u001b[0;34m\u001b[0m\u001b[0;34m\u001b[0m\u001b[0m\n\u001b[0m\u001b[1;32m      2\u001b[0m \u001b[0mplt\u001b[0m\u001b[0;34m.\u001b[0m\u001b[0mimshow\u001b[0m\u001b[0;34m(\u001b[0m\u001b[0mthree\u001b[0m\u001b[0;34m)\u001b[0m\u001b[0;34m;\u001b[0m\u001b[0;34m\u001b[0m\u001b[0;34m\u001b[0m\u001b[0m\n",
      "\u001b[0;31mNameError\u001b[0m: name 'arr' is not defined"
     ]
    }
   ],
   "source": [
    "three = arr==7\n",
    "plt.imshow(three);"
   ]
  },
  {
   "cell_type": "code",
   "execution_count": null,
   "metadata": {},
   "outputs": [],
   "source": []
  },
  {
   "cell_type": "code",
   "execution_count": null,
   "metadata": {},
   "outputs": [],
   "source": []
  },
  {
   "cell_type": "code",
   "execution_count": 62,
   "metadata": {
    "scrolled": true
   },
   "outputs": [],
   "source": [
    "model = models.Sequential()  #stack layers sequentially\n",
    "model.add(layers.Conv2D(batch_size,(3,3),activation='relu',input_shape=(nrows,ncolumns,channels)))\n",
    "model.add(layers.MaxPooling2D((2,2)))\n",
    "for i in [64,128]:\n",
    "    model.add(layers.Conv2D(i,(3,3),activation='sigmoid',input_shape=(nrows,ncolumns,channels)))\n",
    "    model.add(layers.MaxPooling2D((2,2)))\n",
    "model.add(layers.Flatten())\n",
    "model.add(layers.Dropout(0.5))\n",
    "model.add(layers.Dense(512,activation='relu'))\n",
    "model.add(layers.Dense(1,activation='sigmoid'))"
   ]
  },
  {
   "cell_type": "code",
   "execution_count": 122,
   "metadata": {},
   "outputs": [],
   "source": [
    "model.compile(loss='binary_crossentropy',optimizer=optimizers.RMSprop(lr=1e-4),metrics=['acc'])"
   ]
  },
  {
   "cell_type": "code",
   "execution_count": 123,
   "metadata": {
    "scrolled": true
   },
   "outputs": [
    {
     "name": "stdout",
     "output_type": "stream",
     "text": [
      "Model: \"sequential_3\"\n",
      "_________________________________________________________________\n",
      "Layer (type)                 Output Shape              Param #   \n",
      "=================================================================\n",
      "conv2d_7 (Conv2D)            (None, 26, 26, 32)        320       \n",
      "_________________________________________________________________\n",
      "max_pooling2d_7 (MaxPooling2 (None, 13, 13, 32)        0         \n",
      "_________________________________________________________________\n",
      "conv2d_8 (Conv2D)            (None, 11, 11, 64)        18496     \n",
      "_________________________________________________________________\n",
      "max_pooling2d_8 (MaxPooling2 (None, 5, 5, 64)          0         \n",
      "_________________________________________________________________\n",
      "conv2d_9 (Conv2D)            (None, 3, 3, 128)         73856     \n",
      "_________________________________________________________________\n",
      "max_pooling2d_9 (MaxPooling2 (None, 1, 1, 128)         0         \n",
      "_________________________________________________________________\n",
      "flatten_3 (Flatten)          (None, 128)               0         \n",
      "_________________________________________________________________\n",
      "dropout_3 (Dropout)          (None, 128)               0         \n",
      "_________________________________________________________________\n",
      "dense_5 (Dense)              (None, 512)               66048     \n",
      "_________________________________________________________________\n",
      "dense_6 (Dense)              (None, 1)                 513       \n",
      "=================================================================\n",
      "Total params: 159,233\n",
      "Trainable params: 159,233\n",
      "Non-trainable params: 0\n",
      "_________________________________________________________________\n"
     ]
    }
   ],
   "source": [
    "model.summary()"
   ]
  },
  {
   "cell_type": "code",
   "execution_count": 124,
   "metadata": {},
   "outputs": [],
   "source": [
    "train_datagen = ImageDataGenerator(rescale = 1./255, rotation_range=40,width_shift_range=0.2,height_shift_range=0.2,shear_range=0.2,zoom_range=0.2)\n",
    "val_datagen = ImageDataGenerator(rescale=1./255)"
   ]
  },
  {
   "cell_type": "code",
   "execution_count": 21,
   "metadata": {},
   "outputs": [],
   "source": [
    "train_generator = train_datagen.flow(X_train,y_train,batch_size=batch_size)\n",
    "val_generator = val_datagen.flow(X_test,y_test,batch_size=batch_size)"
   ]
  },
  {
   "cell_type": "code",
   "execution_count": null,
   "metadata": {
    "scrolled": false
   },
   "outputs": [],
   "source": [
    "history = model.fit_generator(train_generator,steps_per_epoch = ntrain//batch_size,\n",
    "                             epochs = 64, validation_data = val_generator, validation_steps=ntest//batch_size)"
   ]
  }
 ],
 "metadata": {
  "kernelspec": {
   "display_name": "Python 3",
   "language": "python",
   "name": "python3"
  },
  "language_info": {
   "codemirror_mode": {
    "name": "ipython",
    "version": 3
   },
   "file_extension": ".py",
   "mimetype": "text/x-python",
   "name": "python",
   "nbconvert_exporter": "python",
   "pygments_lexer": "ipython3",
   "version": "3.7.3"
  }
 },
 "nbformat": 4,
 "nbformat_minor": 2
}
