{
 "cells": [
  {
   "cell_type": "code",
   "execution_count": 1,
   "metadata": {},
   "outputs": [
    {
     "name": "stderr",
     "output_type": "stream",
     "text": [
      "Using TensorFlow backend.\n"
     ]
    }
   ],
   "source": [
    "import os\n",
    "import pandas as pd\n",
    "import numpy as np\n",
    "\n",
    "import processing as proc\n",
    "\n",
    "import tensorflow as tf\n",
    "from tensorflow.keras import layers\n",
    "keras = tf.keras\n",
    "AUTOTUNE = tf.data.experimental.AUTOTUNE ## tf.data transformation parameters\n"
   ]
  },
  {
   "cell_type": "code",
   "execution_count": 388,
   "metadata": {},
   "outputs": [
    {
     "data": {
      "text/plain": [
       "['testmarker/2185.jpg', 'testmarker/7493.jpg']"
      ]
     },
     "execution_count": 388,
     "metadata": {},
     "output_type": "execute_result"
    }
   ],
   "source": [
    "imgs = os.popen(\"ls testmarker\").read().split('\\n')[:-1]\n",
    "for i,img in enumerate(imgs):\n",
    "    imgs[i]='testmarker/'+img\n",
    "imgs\n",
    "# imgs = os.popen(\"ls generated_imageset\").read().split('\\n')[:-1]\n",
    "# for i,img in enumerate(imgs):\n",
    "#     imgs[i]='generated_imageset/'+img\n",
    "# imgs"
   ]
  },
  {
   "cell_type": "code",
   "execution_count": 378,
   "metadata": {},
   "outputs": [
    {
     "data": {
      "text/plain": [
       "[[2, 1, 8, 5], [7, 4, 9, 3]]"
      ]
     },
     "execution_count": 378,
     "metadata": {},
     "output_type": "execute_result"
    }
   ],
   "source": [
    "labels = []\n",
    "for filename in imgs:\n",
    "    label = []\n",
    "    for digit in filename[-8:-4]:\n",
    "        label.append(int(digit))\n",
    "    labels.append(label)\n",
    "labels"
   ]
  },
  {
   "cell_type": "code",
   "execution_count": 379,
   "metadata": {},
   "outputs": [],
   "source": [
    "df = pd.DataFrame(imgs)\n",
    "df.columns = ['filename']\n",
    "df['label'] = labels\n",
    "# df.to_csv('prepared_labels.csv',index=False)"
   ]
  },
  {
   "cell_type": "code",
   "execution_count": 380,
   "metadata": {},
   "outputs": [
    {
     "data": {
      "text/html": [
       "<div>\n",
       "<style scoped>\n",
       "    .dataframe tbody tr th:only-of-type {\n",
       "        vertical-align: middle;\n",
       "    }\n",
       "\n",
       "    .dataframe tbody tr th {\n",
       "        vertical-align: top;\n",
       "    }\n",
       "\n",
       "    .dataframe thead th {\n",
       "        text-align: right;\n",
       "    }\n",
       "</style>\n",
       "<table border=\"1\" class=\"dataframe\">\n",
       "  <thead>\n",
       "    <tr style=\"text-align: right;\">\n",
       "      <th></th>\n",
       "      <th>filename</th>\n",
       "      <th>label</th>\n",
       "    </tr>\n",
       "  </thead>\n",
       "  <tbody>\n",
       "    <tr>\n",
       "      <td>0</td>\n",
       "      <td>testmarker/2185.jpg</td>\n",
       "      <td>[2, 1, 8, 5]</td>\n",
       "    </tr>\n",
       "    <tr>\n",
       "      <td>1</td>\n",
       "      <td>testmarker/7493.jpg</td>\n",
       "      <td>[7, 4, 9, 3]</td>\n",
       "    </tr>\n",
       "  </tbody>\n",
       "</table>\n",
       "</div>"
      ],
      "text/plain": [
       "              filename         label\n",
       "0  testmarker/2185.jpg  [2, 1, 8, 5]\n",
       "1  testmarker/7493.jpg  [7, 4, 9, 3]"
      ]
     },
     "execution_count": 380,
     "metadata": {},
     "output_type": "execute_result"
    }
   ],
   "source": [
    "# prepared = df.as_matrix()\n",
    "df_subset = df.copy()     #.iloc[:1000]\n",
    "df_subset"
   ]
  },
  {
   "cell_type": "code",
   "execution_count": 6,
   "metadata": {},
   "outputs": [
    {
     "name": "stdout",
     "output_type": "stream",
     "text": [
      "mnist_5epochs_20191028.h5  mnist_hasyv2_20epochs_201910291572394063.h5\r\n"
     ]
    }
   ],
   "source": [
    "!ls saved_models\n",
    "models = os.popen(\"ls saved_models\").read().split('\\n')[:-1]\n",
    "tf_model = keras.models.load_model('saved_models/'+models[-1])"
   ]
  },
  {
   "cell_type": "code",
   "execution_count": 10,
   "metadata": {
    "scrolled": false
   },
   "outputs": [],
   "source": [
    "# proc.main(prepared[:5],tf=True,fitted_clf=tf_model)"
   ]
  },
  {
   "cell_type": "code",
   "execution_count": 299,
   "metadata": {
    "scrolled": true
   },
   "outputs": [
    {
     "name": "stderr",
     "output_type": "stream",
     "text": [
      "Lossy conversion from int64 to uint8. Range [0, 1]. Convert image to uint8 prior to saving to suppress this warning.\n"
     ]
    },
    {
     "name": "stdout",
     "output_type": "stream",
     "text": [
      "1 of 9\n"
     ]
    },
    {
     "ename": "ValueError",
     "evalue": "too many values to unpack (expected 2)",
     "output_type": "error",
     "traceback": [
      "\u001b[0;31m---------------------------------------------------------------------------\u001b[0m",
      "\u001b[0;31mValueError\u001b[0m                                Traceback (most recent call last)",
      "\u001b[0;32m~/autograder/processing.py\u001b[0m in \u001b[0;36mprocess_image\u001b[0;34m(filename, dirname, fitted_clf, plot, svc, tf, photo)\u001b[0m\n\u001b[1;32m    195\u001b[0m                 \u001b[0;32mtry\u001b[0m\u001b[0;34m:\u001b[0m\u001b[0;34m\u001b[0m\u001b[0;34m\u001b[0m\u001b[0m\n\u001b[0;32m--> 196\u001b[0;31m                     \u001b[0;32mif\u001b[0m \u001b[0mcrop_image\u001b[0m\u001b[0;34m(\u001b[0m\u001b[0mseg\u001b[0m\u001b[0;34m,\u001b[0m\u001b[0mlabel_arr\u001b[0m\u001b[0;34m,\u001b[0m\u001b[0morig\u001b[0m\u001b[0;34m,\u001b[0m\u001b[0mmodel\u001b[0m\u001b[0;34m=\u001b[0m\u001b[0mfitted_clf\u001b[0m\u001b[0;34m,\u001b[0m\u001b[0mdirec\u001b[0m\u001b[0;34m=\u001b[0m\u001b[0mtemp\u001b[0m\u001b[0;34m,\u001b[0m\u001b[0msvc\u001b[0m\u001b[0;34m=\u001b[0m\u001b[0;32mFalse\u001b[0m\u001b[0;34m,\u001b[0m\u001b[0mtf\u001b[0m\u001b[0;34m=\u001b[0m\u001b[0;32mTrue\u001b[0m\u001b[0;34m)\u001b[0m\u001b[0;34m==\u001b[0m\u001b[0;32mNone\u001b[0m\u001b[0;34m:\u001b[0m\u001b[0;34m\u001b[0m\u001b[0;34m\u001b[0m\u001b[0m\n\u001b[0m\u001b[1;32m    197\u001b[0m                         \u001b[0mfinding\u001b[0m\u001b[0;34m=\u001b[0m\u001b[0;34m'%'\u001b[0m\u001b[0;34m\u001b[0m\u001b[0;34m\u001b[0m\u001b[0m\n",
      "\u001b[0;32m~/autograder/processing.py\u001b[0m in \u001b[0;36mcrop_image\u001b[0;34m(segment, label_arr, binary_arr, ax, plot, model, direc, svc, tf)\u001b[0m\n\u001b[1;32m    139\u001b[0m \u001b[0;34m\u001b[0m\u001b[0m\n\u001b[0;32m--> 140\u001b[0;31m     \u001b[0mxlen\u001b[0m\u001b[0;34m,\u001b[0m\u001b[0mylen\u001b[0m \u001b[0;34m=\u001b[0m \u001b[0mdigit\u001b[0m\u001b[0;34m.\u001b[0m\u001b[0mshape\u001b[0m\u001b[0;34m\u001b[0m\u001b[0;34m\u001b[0m\u001b[0m\n\u001b[0m\u001b[1;32m    141\u001b[0m \u001b[0;34m\u001b[0m\u001b[0m\n",
      "\u001b[0;31mValueError\u001b[0m: too many values to unpack (expected 2)",
      "\nDuring handling of the above exception, another exception occurred:\n",
      "\u001b[0;31mValueError\u001b[0m                                Traceback (most recent call last)",
      "\u001b[0;32m<ipython-input-299-14716035e742>\u001b[0m in \u001b[0;36m<module>\u001b[0;34m\u001b[0m\n\u001b[1;32m      5\u001b[0m         \u001b[0mprint\u001b[0m\u001b[0;34m(\u001b[0m\u001b[0mindex\u001b[0m\u001b[0;34m+\u001b[0m\u001b[0;36m1\u001b[0m\u001b[0;34m,\u001b[0m\u001b[0;34m'of'\u001b[0m\u001b[0;34m,\u001b[0m\u001b[0mlen\u001b[0m\u001b[0;34m(\u001b[0m\u001b[0mdf_subset\u001b[0m\u001b[0;34m)\u001b[0m\u001b[0;34m)\u001b[0m\u001b[0;34m\u001b[0m\u001b[0;34m\u001b[0m\u001b[0m\n\u001b[1;32m      6\u001b[0m \u001b[0;31m#         print('processing ',image)\u001b[0m\u001b[0;34m\u001b[0m\u001b[0;34m\u001b[0m\u001b[0;34m\u001b[0m\u001b[0m\n\u001b[0;32m----> 7\u001b[0;31m         \u001b[0mpred\u001b[0m \u001b[0;34m=\u001b[0m \u001b[0mproc\u001b[0m\u001b[0;34m.\u001b[0m\u001b[0mprocess_image\u001b[0m\u001b[0;34m(\u001b[0m\u001b[0mimage\u001b[0m\u001b[0;34m,\u001b[0m\u001b[0mmatname\u001b[0m\u001b[0;34m,\u001b[0m\u001b[0mtf_model\u001b[0m\u001b[0;34m,\u001b[0m\u001b[0mplot\u001b[0m\u001b[0;34m=\u001b[0m\u001b[0;32mFalse\u001b[0m\u001b[0;34m,\u001b[0m\u001b[0mtf\u001b[0m\u001b[0;34m=\u001b[0m\u001b[0;32mTrue\u001b[0m\u001b[0;34m,\u001b[0m\u001b[0mphoto\u001b[0m\u001b[0;34m=\u001b[0m\u001b[0;32mTrue\u001b[0m\u001b[0;34m)\u001b[0m\u001b[0;34m\u001b[0m\u001b[0;34m\u001b[0m\u001b[0m\n\u001b[0m\u001b[1;32m      8\u001b[0m         \u001b[0mpredictions\u001b[0m\u001b[0;34m.\u001b[0m\u001b[0mappend\u001b[0m\u001b[0;34m(\u001b[0m\u001b[0mpred\u001b[0m\u001b[0;34m)\u001b[0m\u001b[0;34m\u001b[0m\u001b[0;34m\u001b[0m\u001b[0m\n\u001b[1;32m      9\u001b[0m         \u001b[0mrow\u001b[0m \u001b[0;34m=\u001b[0m \u001b[0mstr\u001b[0m\u001b[0;34m(\u001b[0m\u001b[0mdf_subset\u001b[0m\u001b[0;34m.\u001b[0m\u001b[0miloc\u001b[0m\u001b[0;34m[\u001b[0m\u001b[0mindex\u001b[0m\u001b[0;34m]\u001b[0m\u001b[0;34m[\u001b[0m\u001b[0;34m'label'\u001b[0m\u001b[0;34m]\u001b[0m\u001b[0;34m)\u001b[0m\u001b[0;34m+\u001b[0m\u001b[0;34m'; '\u001b[0m\u001b[0;34m+\u001b[0m\u001b[0mstr\u001b[0m\u001b[0;34m(\u001b[0m\u001b[0mlist\u001b[0m\u001b[0;34m(\u001b[0m\u001b[0mpred\u001b[0m\u001b[0;34m)\u001b[0m\u001b[0;34m)\u001b[0m\u001b[0;34m+\u001b[0m\u001b[0;34m'\\n'\u001b[0m\u001b[0;34m\u001b[0m\u001b[0;34m\u001b[0m\u001b[0m\n",
      "\u001b[0;32m~/autograder/processing.py\u001b[0m in \u001b[0;36mprocess_image\u001b[0;34m(filename, dirname, fitted_clf, plot, svc, tf, photo)\u001b[0m\n\u001b[1;32m    197\u001b[0m                         \u001b[0mfinding\u001b[0m\u001b[0;34m=\u001b[0m\u001b[0;34m'%'\u001b[0m\u001b[0;34m\u001b[0m\u001b[0;34m\u001b[0m\u001b[0m\n\u001b[1;32m    198\u001b[0m                 \u001b[0;32mexcept\u001b[0m\u001b[0;34m:\u001b[0m\u001b[0;34m\u001b[0m\u001b[0;34m\u001b[0m\u001b[0m\n\u001b[0;32m--> 199\u001b[0;31m                     \u001b[0mfinding\u001b[0m \u001b[0;34m=\u001b[0m \u001b[0mcrop_image\u001b[0m\u001b[0;34m(\u001b[0m\u001b[0mseg\u001b[0m\u001b[0;34m,\u001b[0m\u001b[0mlabel_arr\u001b[0m\u001b[0;34m,\u001b[0m\u001b[0morig\u001b[0m\u001b[0;34m,\u001b[0m\u001b[0mmodel\u001b[0m\u001b[0;34m=\u001b[0m\u001b[0mfitted_clf\u001b[0m\u001b[0;34m,\u001b[0m\u001b[0mdirec\u001b[0m\u001b[0;34m=\u001b[0m\u001b[0mtemp\u001b[0m\u001b[0;34m,\u001b[0m\u001b[0msvc\u001b[0m\u001b[0;34m=\u001b[0m\u001b[0;32mFalse\u001b[0m\u001b[0;34m,\u001b[0m\u001b[0mtf\u001b[0m\u001b[0;34m=\u001b[0m\u001b[0;32mTrue\u001b[0m\u001b[0;34m)\u001b[0m\u001b[0;34m[\u001b[0m\u001b[0;36m1\u001b[0m\u001b[0;34m]\u001b[0m\u001b[0;34m\u001b[0m\u001b[0;34m\u001b[0m\u001b[0m\n\u001b[0m\u001b[1;32m    200\u001b[0m                 \u001b[0;32mif\u001b[0m \u001b[0mfinding\u001b[0m\u001b[0;34m!=\u001b[0m \u001b[0;32mNone\u001b[0m\u001b[0;34m:\u001b[0m\u001b[0;34m\u001b[0m\u001b[0;34m\u001b[0m\u001b[0m\n\u001b[1;32m    201\u001b[0m                     \u001b[0mpredicted\u001b[0m\u001b[0;34m.\u001b[0m\u001b[0mappend\u001b[0m\u001b[0;34m(\u001b[0m\u001b[0mfinding\u001b[0m\u001b[0;34m)\u001b[0m\u001b[0;34m\u001b[0m\u001b[0;34m\u001b[0m\u001b[0m\n",
      "\u001b[0;32m~/autograder/processing.py\u001b[0m in \u001b[0;36mcrop_image\u001b[0;34m(segment, label_arr, binary_arr, ax, plot, model, direc, svc, tf)\u001b[0m\n\u001b[1;32m    138\u001b[0m \u001b[0;34m\u001b[0m\u001b[0m\n\u001b[1;32m    139\u001b[0m \u001b[0;34m\u001b[0m\u001b[0m\n\u001b[0;32m--> 140\u001b[0;31m     \u001b[0mxlen\u001b[0m\u001b[0;34m,\u001b[0m\u001b[0mylen\u001b[0m \u001b[0;34m=\u001b[0m \u001b[0mdigit\u001b[0m\u001b[0;34m.\u001b[0m\u001b[0mshape\u001b[0m\u001b[0;34m\u001b[0m\u001b[0;34m\u001b[0m\u001b[0m\n\u001b[0m\u001b[1;32m    141\u001b[0m \u001b[0;34m\u001b[0m\u001b[0m\n\u001b[1;32m    142\u001b[0m     \u001b[0;32mif\u001b[0m \u001b[0mylen\u001b[0m\u001b[0;34m==\u001b[0m\u001b[0;36m0\u001b[0m\u001b[0;34m:\u001b[0m\u001b[0;34m\u001b[0m\u001b[0;34m\u001b[0m\u001b[0m\n",
      "\u001b[0;31mValueError\u001b[0m: too many values to unpack (expected 2)"
     ]
    },
    {
     "data": {
      "image/png": "[encoded data removed]",
      "text/plain": [
       "<Figure size 1440x432 with 1 Axes>"
      ]
     },
     "metadata": {
      "needs_background": "light"
     },
     "output_type": "display_data"
    }
   ],
   "source": [
    "# predictions = []\n",
    "# with open('test_new_model__subset.txt','w') as writeFile:\n",
    "#     for index,image in enumerate(df_subset['filename'].iloc[1:]):\n",
    "#         matname = 'tf22/HANDWRITING__'+image[-8:-4]\n",
    "#         print(index+1,'of',len(df_subset))\n",
    "# #         print('processing ',image)\n",
    "#         pred = proc.process_image(image,matname,tf_model,plot=False,tf=True,photo=True)\n",
    "#         predictions.append(pred)\n",
    "#         row = str(df_subset.iloc[index]['label'])+'; '+str(list(pred))+'\\n'\n",
    "# #         print(row)\n",
    "#         writeFile.write(row)\n",
    "# writeFile.close()\n"
   ]
  },
  {
   "cell_type": "code",
   "execution_count": 304,
   "metadata": {
    "scrolled": true
   },
   "outputs": [
    {
     "name": "stderr",
     "output_type": "stream",
     "text": [
      "Lossy conversion from int64 to uint8. Range [0, 1]. Convert image to uint8 prior to saving to suppress this warning.\n",
      "Lossy conversion from int64 to uint8. Range [0, 1]. Convert image to uint8 prior to saving to suppress this warning.\n",
      "Lossy conversion from int64 to uint8. Range [0, 1]. Convert image to uint8 prior to saving to suppress this warning.\n"
     ]
    },
    {
     "name": "stdout",
     "output_type": "stream",
     "text": [
      "1 of 9\n",
      "2 of 9\n",
      "3 of 9\n",
      "4 of 9\n"
     ]
    },
    {
     "name": "stderr",
     "output_type": "stream",
     "text": [
      "Lossy conversion from int64 to uint8. Range [0, 1]. Convert image to uint8 prior to saving to suppress this warning.\n",
      "Lossy conversion from int64 to uint8. Range [0, 1]. Convert image to uint8 prior to saving to suppress this warning.\n",
      "Lossy conversion from int64 to uint8. Range [0, 1]. Convert image to uint8 prior to saving to suppress this warning.\n",
      "Lossy conversion from int64 to uint8. Range [0, 1]. Convert image to uint8 prior to saving to suppress this warning.\n"
     ]
    },
    {
     "name": "stdout",
     "output_type": "stream",
     "text": [
      "5 of 9\n",
      "6 of 9\n",
      "7 of 9\n"
     ]
    },
    {
     "name": "stderr",
     "output_type": "stream",
     "text": [
      "Lossy conversion from int64 to uint8. Range [0, 1]. Convert image to uint8 prior to saving to suppress this warning.\n"
     ]
    },
    {
     "name": "stdout",
     "output_type": "stream",
     "text": [
      "8 of 9\n"
     ]
    },
    {
     "data": {
      "image/png": "[encoded data removed]",
      "text/plain": [
       "<Figure size 1440x432 with 1 Axes>"
      ]
     },
     "metadata": {
      "needs_background": "light"
     },
     "output_type": "display_data"
    }
   ],
   "source": [
    "predictions = []\n",
    "with open('test_new_model__subset.txt','w') as writeFile:\n",
    "    for index,image in enumerate(df_subset['filename'].iloc[1:]):\n",
    "        matname = 'tf22/HANDWRITING__'+image[-8:-4]\n",
    "        print(index+1,'of',len(df_subset))\n",
    "#         print('processing ',image)\n",
    "        binary_arr,label_arr, segments,orig = proc.label_segments(image,matname,photo=True)\n",
    "        predicted = []\n",
    "        for seg in segments:\n",
    "            try:\n",
    "                pred = proc.crop_image(seg,label_arr,orig,model=tf_model,direc=matname,svc=False,tf=True)[1]\n",
    "            except:\n",
    "                pred = None\n",
    "            if pred!= None: predicted.append(pred)\n",
    "        predictions.append(predicted)\n",
    "#         row = str(df_subset.iloc[index]['label'])+'; '+str(list(pred))+'\\n'\n",
    "#         print(row)\n",
    "        writeFile.write(row)\n",
    "writeFile.close()\n"
   ]
  },
  {
   "cell_type": "code",
   "execution_count": 305,
   "metadata": {},
   "outputs": [
    {
     "data": {
      "text/plain": [
       "[[], [], [], [], [], [], [], []]"
      ]
     },
     "execution_count": 305,
     "metadata": {},
     "output_type": "execute_result"
    }
   ],
   "source": [
    "# df_subset.to_csv('test_pred_tf3.csv',index=False)\n",
    "predictions"
   ]
  },
  {
   "cell_type": "code",
   "execution_count": 393,
   "metadata": {},
   "outputs": [
    {
     "data": {
      "text/plain": [
       "'testmarker/2185.jpg'"
      ]
     },
     "execution_count": 393,
     "metadata": {},
     "output_type": "execute_result"
    }
   ],
   "source": [
    "imgs[0]"
   ]
  },
  {
   "cell_type": "code",
   "execution_count": 431,
   "metadata": {},
   "outputs": [
    {
     "data": {
      "text/plain": [
       "4"
      ]
     },
     "execution_count": 431,
     "metadata": {},
     "output_type": "execute_result"
    }
   ],
   "source": [
    "np.max(label_arr)"
   ]
  },
  {
   "cell_type": "code",
   "execution_count": 465,
   "metadata": {
    "scrolled": false
   },
   "outputs": [
    {
     "name": "stderr",
     "output_type": "stream",
     "text": [
      "Lossy conversion from int64 to uint8. Range [0, 1]. Convert image to uint8 prior to saving to suppress this warning.\n"
     ]
    },
    {
     "name": "stdout",
     "output_type": "stream",
     "text": [
      "testmarker/2185.jpg\n",
      "[2, 1, 8, 5]\n"
     ]
    },
    {
     "data": {
      "image/png": "[encoded data removed]",
      "text/plain": [
       "<Figure size 1440x432 with 1 Axes>"
      ]
     },
     "metadata": {
      "needs_background": "light"
     },
     "output_type": "display_data"
    },
    {
     "data": {
      "image/png": "[encoded data removed]",
      "text/plain": [
       "<Figure size 720x4320 with 14 Axes>"
      ]
     },
     "metadata": {
      "needs_background": "light"
     },
     "output_type": "display_data"
    }
   ],
   "source": [
    "from math import ceil \n",
    "import cv2\n",
    "from PIL import Image\n",
    "IMAGE = imgs[0]\n",
    "binary_arr,label_arr, segments,orig = proc.label_segments(IMAGE,'',photo=True)\n",
    "plt.imshow(binary_arr)\n",
    "segments\n",
    "\n",
    "predictions = []\n",
    "fig,axes = plt.subplots(len(segments),figsize=(10,60))\n",
    "for seg,ax in list(zip(segments,axes.flatten())):\n",
    "    found = label_arr==seg\n",
    "    x,y = np.where(found)\n",
    "    xmin,xmax,ymin,ymax = np.min(x),np.max(x),np.min(y),np.max(y)\n",
    "    xlen,ylen = found[xmin:xmax,ymin:ymax].shape\n",
    "    diff = np.abs(ylen-xlen)\n",
    "    change = ceil(diff/2)\n",
    "    if diff!=0:\n",
    "        if ylen>xlen:\n",
    "            xmin-=change\n",
    "            xmax+=change\n",
    "\n",
    "        else:\n",
    "            ymin-=change\n",
    "            ymax+=change\n",
    "\n",
    "        xlen,ylen = xmax-xmin,ymax-ymin\n",
    "        diff=np.abs(ylen-xlen)\n",
    "        if xlen>ylen: ymax+=diff\n",
    "        elif ylen>xlen: xmax+=diff\n",
    "    digit = binary_arr[xmin:xmax,ymin:ymax]\n",
    "    digit = np.pad(digit,int(len(digit)*.2))        \n",
    "    \n",
    "\n",
    "    if digit.shape[0]<10:\n",
    "        ax.set_visible(False)       \n",
    "        pass\n",
    "    else:\n",
    "        ax.imshow(digit)\n",
    "        im = Image.fromarray(np.array(digit)*255.0).convert(\"RGB\")\n",
    "        im.save('000.png')\n",
    "        img = cv2.resize(cv2.imread('000.png',cv2.IMREAD_GRAYSCALE),(28,28),interpolation=cv2.INTER_CUBIC)\n",
    "        p = np.argmax(tf_model.predict(img.astype(float).flatten().reshape((1, 28, 28, 1))))\n",
    "        ax.set_title(p)\n",
    "        predictions.append([ymin,p])\n",
    "\n",
    "predictions.sort()    \n",
    "predictions = [pr[1] for pr in predictions]\n",
    "print(IMAGE)\n",
    "print(predictions)"
   ]
  },
  {
   "cell_type": "code",
   "execution_count": 455,
   "metadata": {},
   "outputs": [
    {
     "name": "stdout",
     "output_type": "stream",
     "text": [
      "testmarker/2185.jpg\n"
     ]
    },
    {
     "data": {
      "text/plain": [
       "[2, 1, 8, 5]"
      ]
     },
     "execution_count": 455,
     "metadata": {},
     "output_type": "execute_result"
    }
   ],
   "source": [
    "# plt.imshow(imgs[0])\n",
    "print(imgs[0])\n",
    "predictions"
   ]
  },
  {
   "cell_type": "code",
   "execution_count": null,
   "metadata": {},
   "outputs": [],
   "source": [
    "df_subset['predict'] = predictions\n",
    "df_subset"
   ]
  },
  {
   "cell_type": "code",
   "execution_count": null,
   "metadata": {},
   "outputs": [],
   "source": []
  },
  {
   "cell_type": "code",
   "execution_count": 22,
   "metadata": {},
   "outputs": [],
   "source": [
    "actual2 = []\n",
    "predict2 = []\n",
    "\n",
    "for i in range(len(df_subset)):\n",
    "    actual2.append(np.array(df_subset)[i][1])\n",
    "    predict2.append(list(df_subset.iloc[i]['predict'])    )\n"
   ]
  },
  {
   "cell_type": "code",
   "execution_count": null,
   "metadata": {},
   "outputs": [],
   "source": []
  },
  {
   "cell_type": "code",
   "execution_count": null,
   "metadata": {},
   "outputs": [],
   "source": []
  },
  {
   "cell_type": "code",
   "execution_count": 23,
   "metadata": {},
   "outputs": [
    {
     "name": "stderr",
     "output_type": "stream",
     "text": [
      "/home/nina/anaconda3/lib/python3.7/site-packages/ipykernel_launcher.py:3: DeprecationWarning: elementwise comparison failed; this will raise an error in the future.\n",
      "  This is separate from the ipykernel package so we can avoid doing imports until\n"
     ]
    },
    {
     "data": {
      "text/plain": [
       "0.86125"
      ]
     },
     "execution_count": 23,
     "metadata": {},
     "output_type": "execute_result"
    }
   ],
   "source": [
    "results = []\n",
    "for i in range(len(df_subset)):\n",
    "    results.append((np.array(actual2)[i]==np.array(predict2)[i])*1)\n",
    "np.sum(np.sum(results))/(len(df_subset)*4)"
   ]
  },
  {
   "cell_type": "code",
   "execution_count": 24,
   "metadata": {},
   "outputs": [],
   "source": [
    "count_correct = []\n",
    "for arr in results:\n",
    "    count_correct.append(np.sum(arr))\n"
   ]
  },
  {
   "cell_type": "code",
   "execution_count": 25,
   "metadata": {},
   "outputs": [],
   "source": [
    "all_correct = count_correct.count(4)\n",
    "correct_3 = count_correct.count(3)\n",
    "correct_2 = count_correct.count(2)\n",
    "correct_1 = count_correct.count(1)\n",
    "none_correct = count_correct.count(0)"
   ]
  },
  {
   "cell_type": "code",
   "execution_count": 26,
   "metadata": {},
   "outputs": [
    {
     "name": "stdout",
     "output_type": "stream",
     "text": [
      "583 312 82 13 10\n"
     ]
    }
   ],
   "source": [
    "print(all_correct,correct_3,correct_2,correct_1,none_correct)"
   ]
  },
  {
   "cell_type": "code",
   "execution_count": 27,
   "metadata": {},
   "outputs": [
    {
     "name": "stdout",
     "output_type": "stream",
     "text": [
      "583 312 82 13 10\n"
     ]
    }
   ],
   "source": [
    "print(all_correct,correct_3,correct_2,correct_1,none_correct)"
   ]
  },
  {
   "cell_type": "code",
   "execution_count": 31,
   "metadata": {},
   "outputs": [],
   "source": [
    "N=len(results)/100"
   ]
  },
  {
   "cell_type": "code",
   "execution_count": 32,
   "metadata": {},
   "outputs": [
    {
     "name": "stdout",
     "output_type": "stream",
     "text": [
      "58.3 31.2 8.2 1.3 1.0\n"
     ]
    }
   ],
   "source": [
    "print(all_correct/N,correct_3/N,correct_2/N,correct_1/N,none_correct/N)"
   ]
  },
  {
   "cell_type": "code",
   "execution_count": null,
   "metadata": {},
   "outputs": [],
   "source": []
  },
  {
   "cell_type": "code",
   "execution_count": null,
   "metadata": {},
   "outputs": [],
   "source": []
  },
  {
   "cell_type": "code",
   "execution_count": null,
   "metadata": {},
   "outputs": [],
   "source": []
  },
  {
   "cell_type": "code",
   "execution_count": 21,
   "metadata": {},
   "outputs": [],
   "source": [
    "import tensorflow as tf"
   ]
  },
  {
   "cell_type": "code",
   "execution_count": null,
   "metadata": {},
   "outputs": [],
   "source": []
  },
  {
   "cell_type": "code",
   "execution_count": null,
   "metadata": {},
   "outputs": [],
   "source": []
  },
  {
   "cell_type": "code",
   "execution_count": null,
   "metadata": {},
   "outputs": [],
   "source": []
  },
  {
   "cell_type": "code",
   "execution_count": null,
   "metadata": {},
   "outputs": [],
   "source": []
  },
  {
   "cell_type": "code",
   "execution_count": null,
   "metadata": {},
   "outputs": [],
   "source": []
  },
  {
   "cell_type": "code",
   "execution_count": 8,
   "metadata": {},
   "outputs": [],
   "source": [
    "issues = [2,\n",
    " 4,\n",
    " 5,\n",
    " 7,\n",
    " 9,\n",
    " 11,\n",
    " 12,\n",
    " 15,\n",
    " 19,\n",
    " 27,\n",
    " 28,\n",
    " 30,\n",
    " 34,\n",
    " 35,\n",
    " 36,\n",
    " 37,\n",
    " 40,\n",
    " 41,\n",
    " 42,\n",
    " 43,\n",
    " 46,\n",
    " 47,\n",
    " 48,\n",
    " 52,\n",
    " 54,\n",
    " 56,\n",
    " 59,\n",
    " 60,\n",
    " 61,\n",
    " 63,\n",
    " 65,\n",
    " 68,\n",
    " 72,\n",
    " 73,\n",
    " 74,\n",
    " 75,\n",
    " 80,\n",
    " 81,\n",
    " 82,\n",
    " 85,\n",
    " 87,\n",
    " 89,\n",
    " 91,\n",
    " 92,\n",
    " 93,\n",
    " 94,\n",
    " 96,\n",
    " 97,\n",
    " 102,\n",
    " 103,\n",
    " 106,\n",
    " 107,\n",
    " 108,\n",
    " 109,\n",
    " 113,\n",
    " 114,\n",
    " 118,\n",
    " 121,\n",
    " 122,\n",
    " 124,\n",
    " 125,\n",
    " 128,\n",
    " 129,\n",
    " 130,\n",
    " 133,\n",
    " 139,\n",
    " 145,\n",
    " 147,\n",
    " 148,\n",
    " 152,\n",
    " 156,\n",
    " 157,\n",
    " 160,\n",
    " 161,\n",
    " 163,\n",
    " 165,\n",
    " 169,\n",
    " 172,\n",
    " 176,\n",
    " 178,\n",
    " 181,\n",
    " 182,\n",
    " 183,\n",
    " 184,\n",
    " 185,\n",
    " 187,\n",
    " 188,\n",
    " 192,\n",
    " 193,\n",
    " 196,\n",
    " 199,\n",
    " 200,\n",
    " 201,\n",
    " 208,\n",
    " 211,\n",
    " 215,\n",
    " 216,\n",
    " 217,\n",
    " 218,\n",
    " 219,\n",
    " 225,\n",
    " 227,\n",
    " 228,\n",
    " 233,\n",
    " 234,\n",
    " 235,\n",
    " 236,\n",
    " 238,\n",
    " 239,\n",
    " 241,\n",
    " 247,\n",
    " 249,\n",
    " 250,\n",
    " 251,\n",
    " 252,\n",
    " 259,\n",
    " 261,\n",
    " 262,\n",
    " 264,\n",
    " 265,\n",
    " 266,\n",
    " 267,\n",
    " 276,\n",
    " 280,\n",
    " 282,\n",
    " 283,\n",
    " 286,\n",
    " 287,\n",
    " 288,\n",
    " 290,\n",
    " 291,\n",
    " 292,\n",
    " 295,\n",
    " 297,\n",
    " 298,\n",
    " 300,\n",
    " 302,\n",
    " 303,\n",
    " 305,\n",
    " 306,\n",
    " 309,\n",
    " 315,\n",
    " 316,\n",
    " 319,\n",
    " 321,\n",
    " 323,\n",
    " 328,\n",
    " 331,\n",
    " 333,\n",
    " 335,\n",
    " 337,\n",
    " 339,\n",
    " 340,\n",
    " 341,\n",
    " 342,\n",
    " 343,\n",
    " 352,\n",
    " 354,\n",
    " 355,\n",
    " 360,\n",
    " 365,\n",
    " 366,\n",
    " 368,\n",
    " 369,\n",
    " 375,\n",
    " 380,\n",
    " 383,\n",
    " 384,\n",
    " 386,\n",
    " 387,\n",
    " 390,\n",
    " 392,\n",
    " 395,\n",
    " 397,\n",
    " 400,\n",
    " 413,\n",
    " 414,\n",
    " 417,\n",
    " 421,\n",
    " 423,\n",
    " 424,\n",
    " 426,\n",
    " 430,\n",
    " 434,\n",
    " 435,\n",
    " 438,\n",
    " 439,\n",
    " 440,\n",
    " 441,\n",
    " 444,\n",
    " 445,\n",
    " 446,\n",
    " 447,\n",
    " 448,\n",
    " 452,\n",
    " 453,\n",
    " 454,\n",
    " 455,\n",
    " 459,\n",
    " 461,\n",
    " 463,\n",
    " 466,\n",
    " 470,\n",
    " 474,\n",
    " 477,\n",
    " 481,\n",
    " 483,\n",
    " 486,\n",
    " 488,\n",
    " 491,\n",
    " 493,\n",
    " 496,\n",
    " 497,\n",
    " 498,\n",
    " 499,\n",
    " 501,\n",
    " 505,\n",
    " 506,\n",
    " 507,\n",
    " 508,\n",
    " 511,\n",
    " 514,\n",
    " 516,\n",
    " 517,\n",
    " 519,\n",
    " 521,\n",
    " 522,\n",
    " 524,\n",
    " 530,\n",
    " 533,\n",
    " 536,\n",
    " 540,\n",
    " 541,\n",
    " 544,\n",
    " 545,\n",
    " 551,\n",
    " 555,\n",
    " 559,\n",
    " 560,\n",
    " 561,\n",
    " 562,\n",
    " 563,\n",
    " 565,\n",
    " 566,\n",
    " 568,\n",
    " 571,\n",
    " 573,\n",
    " 574,\n",
    " 577,\n",
    " 579,\n",
    " 580,\n",
    " 581,\n",
    " 584,\n",
    " 585,\n",
    " 588,\n",
    " 594,\n",
    " 595,\n",
    " 598,\n",
    " 599,\n",
    " 601,\n",
    " 602,\n",
    " 603,\n",
    " 612,\n",
    " 614,\n",
    " 615,\n",
    " 617,\n",
    " 618,\n",
    " 620,\n",
    " 622,\n",
    " 626,\n",
    " 632,\n",
    " 633,\n",
    " 641,\n",
    " 643,\n",
    " 644,\n",
    " 647,\n",
    " 648,\n",
    " 649,\n",
    " 652,\n",
    " 653,\n",
    " 655,\n",
    " 657,\n",
    " 658,\n",
    " 659,\n",
    " 660,\n",
    " 661,\n",
    " 663,\n",
    " 668,\n",
    " 671,\n",
    " 672,\n",
    " 680,\n",
    " 685,\n",
    " 686,\n",
    " 687,\n",
    " 690,\n",
    " 691,\n",
    " 692,\n",
    " 697,\n",
    " 698,\n",
    " 700,\n",
    " 701,\n",
    " 702,\n",
    " 704,\n",
    " 708,\n",
    " 712,\n",
    " 714,\n",
    " 719,\n",
    " 720,\n",
    " 721,\n",
    " 723,\n",
    " 725,\n",
    " 727,\n",
    " 728,\n",
    " 729,\n",
    " 731,\n",
    " 734,\n",
    " 735,\n",
    " 742,\n",
    " 744,\n",
    " 746,\n",
    " 747,\n",
    " 748,\n",
    " 749,\n",
    " 750,\n",
    " 751,\n",
    " 752,\n",
    " 755,\n",
    " 757,\n",
    " 758,\n",
    " 765,\n",
    " 766,\n",
    " 767,\n",
    " 770,\n",
    " 773,\n",
    " 775,\n",
    " 776,\n",
    " 778,\n",
    " 779,\n",
    " 783,\n",
    " 785,\n",
    " 786,\n",
    " 789,\n",
    " 790,\n",
    " 791,\n",
    " 792,\n",
    " 795,\n",
    " 796,\n",
    " 797,\n",
    " 799,\n",
    " 802,\n",
    " 803,\n",
    " 805,\n",
    " 807,\n",
    " 809,\n",
    " 811,\n",
    " 815,\n",
    " 816,\n",
    " 817,\n",
    " 819,\n",
    " 823,\n",
    " 826,\n",
    " 830,\n",
    " 835,\n",
    " 836,\n",
    " 838,\n",
    " 842,\n",
    " 844,\n",
    " 845,\n",
    " 846,\n",
    " 849,\n",
    " 850,\n",
    " 851,\n",
    " 852,\n",
    " 853,\n",
    " 855,\n",
    " 857,\n",
    " 858,\n",
    " 862,\n",
    " 863,\n",
    " 864,\n",
    " 866,\n",
    " 867,\n",
    " 868,\n",
    " 870,\n",
    " 873,\n",
    " 874,\n",
    " 876,\n",
    " 878,\n",
    " 879,\n",
    " 880,\n",
    " 881,\n",
    " 882,\n",
    " 884,\n",
    " 887,\n",
    " 891,\n",
    " 893,\n",
    " 894,\n",
    " 897,\n",
    " 898,\n",
    " 899,\n",
    " 901,\n",
    " 903,\n",
    " 904,\n",
    " 906,\n",
    " 909,\n",
    " 910,\n",
    " 911,\n",
    " 915,\n",
    " 918,\n",
    " 920,\n",
    " 921,\n",
    " 928,\n",
    " 929,\n",
    " 930,\n",
    " 931,\n",
    " 934,\n",
    " 936,\n",
    " 937,\n",
    " 939,\n",
    " 940,\n",
    " 941,\n",
    " 942,\n",
    " 944,\n",
    " 945,\n",
    " 947,\n",
    " 948,\n",
    " 949,\n",
    " 952,\n",
    " 953,\n",
    " 955,\n",
    " 958,\n",
    " 961,\n",
    " 962,\n",
    " 965,\n",
    " 966,\n",
    " 970,\n",
    " 972,\n",
    " 975,\n",
    " 976,\n",
    " 981,\n",
    " 983,\n",
    " 984,\n",
    " 990,\n",
    " 993,\n",
    " 994,\n",
    " 999,\n",
    " 1000,\n",
    " 1001,\n",
    " 1003,\n",
    " 1005,\n",
    " 1006,\n",
    " 1007,\n",
    " 1008,\n",
    " 1010,\n",
    " 1013,\n",
    " 1014,\n",
    " 1016,\n",
    " 1017,\n",
    " 1018,\n",
    " 1021,\n",
    " 1022,\n",
    " 1023,\n",
    " 1024,\n",
    " 1025,\n",
    " 1030,\n",
    " 1032,\n",
    " 1041,\n",
    " 1042,\n",
    " 1043,\n",
    " 1044,\n",
    " 1045,\n",
    " 1046,\n",
    " 1047,\n",
    " 1048,\n",
    " 1050,\n",
    " 1051,\n",
    " 1053,\n",
    " 1058,\n",
    " 1059,\n",
    " 1060,\n",
    " 1062,\n",
    " 1063,\n",
    " 1066,\n",
    " 1067,\n",
    " 1072,\n",
    " 1076,\n",
    " 1078,\n",
    " 1080,\n",
    " 1081,\n",
    " 1082,\n",
    " 1085,\n",
    " 1088,\n",
    " 1090,\n",
    " 1091,\n",
    " 1092,\n",
    " 1093,\n",
    " 1094,\n",
    " 1096,\n",
    " 1097,\n",
    " 1099,\n",
    " 1100,\n",
    " 1102,\n",
    " 1104,\n",
    " 1107,\n",
    " 1108,\n",
    " 1117,\n",
    " 1118,\n",
    " 1119,\n",
    " 1120,\n",
    " 1121,\n",
    " 1124,\n",
    " 1125,\n",
    " 1126,\n",
    " 1127,\n",
    " 1128,\n",
    " 1130,\n",
    " 1134,\n",
    " 1135,\n",
    " 1140,\n",
    " 1142,\n",
    " 1146,\n",
    " 1149,\n",
    " 1151,\n",
    " 1153,\n",
    " 1156,\n",
    " 1159,\n",
    " 1161,\n",
    " 1166,\n",
    " 1167,\n",
    " 1168,\n",
    " 1170,\n",
    " 1172,\n",
    " 1173,\n",
    " 1174,\n",
    " 1176,\n",
    " 1179,\n",
    " 1182,\n",
    " 1183,\n",
    " 1186,\n",
    " 1187,\n",
    " 1189,\n",
    " 1197,\n",
    " 1198,\n",
    " 1203,\n",
    " 1204,\n",
    " 1205,\n",
    " 1206,\n",
    " 1207,\n",
    " 1208,\n",
    " 1211,\n",
    " 1216,\n",
    " 1220,\n",
    " 1222,\n",
    " 1225,\n",
    " 1226,\n",
    " 1227,\n",
    " 1229,\n",
    " 1230,\n",
    " 1232,\n",
    " 1234,\n",
    " 1235,\n",
    " 1236,\n",
    " 1237,\n",
    " 1238,\n",
    " 1239,\n",
    " 1246,\n",
    " 1247,\n",
    " 1249,\n",
    " 1251,\n",
    " 1255,\n",
    " 1256,\n",
    " 1258,\n",
    " 1262,\n",
    " 1264,\n",
    " 1266,\n",
    " 1267,\n",
    " 1268,\n",
    " 1269,\n",
    " 1271,\n",
    " 1273,\n",
    " 1274,\n",
    " 1276,\n",
    " 1278,\n",
    " 1281,\n",
    " 1282,\n",
    " 1285,\n",
    " 1286,\n",
    " 1289,\n",
    " 1290,\n",
    " 1293,\n",
    " 1300,\n",
    " 1301,\n",
    " 1302,\n",
    " 1303,\n",
    " 1307,\n",
    " 1308,\n",
    " 1309,\n",
    " 1310,\n",
    " 1311,\n",
    " 1314,\n",
    " 1315,\n",
    " 1316,\n",
    " 1317,\n",
    " 1318,\n",
    " 1320,\n",
    " 1322,\n",
    " 1323,\n",
    " 1326,\n",
    " 1327,\n",
    " 1329,\n",
    " 1330,\n",
    " 1334,\n",
    " 1335,\n",
    " 1345,\n",
    " 1346,\n",
    " 1347,\n",
    " 1348,\n",
    " 1349,\n",
    " 1351,\n",
    " 1356,\n",
    " 1357,\n",
    " 1358,\n",
    " 1359,\n",
    " 1360,\n",
    " 1361,\n",
    " 1364,\n",
    " 1365,\n",
    " 1366,\n",
    " 1367,\n",
    " 1372,\n",
    " 1373,\n",
    " 1375,\n",
    " 1376,\n",
    " 1377,\n",
    " 1378,\n",
    " 1381,\n",
    " 1383,\n",
    " 1384,\n",
    " 1385,\n",
    " 1386,\n",
    " 1391,\n",
    " 1397,\n",
    " 1398,\n",
    " 1399,\n",
    " 1402,\n",
    " 1405,\n",
    " 1408,\n",
    " 1409,\n",
    " 1413,\n",
    " 1414,\n",
    " 1416,\n",
    " 1417,\n",
    " 1418,\n",
    " 1419,\n",
    " 1421,\n",
    " 1422,\n",
    " 1425,\n",
    " 1426,\n",
    " 1427,\n",
    " 1428,\n",
    " 1429,\n",
    " 1430,\n",
    " 1432,\n",
    " 1434,\n",
    " 1437,\n",
    " 1440,\n",
    " 1443,\n",
    " 1445,\n",
    " 1450,\n",
    " 1452,\n",
    " 1454,\n",
    " 1455,\n",
    " 1456,\n",
    " 1461,\n",
    " 1462,\n",
    " 1463,\n",
    " 1466,\n",
    " 1468,\n",
    " 1469,\n",
    " 1470,\n",
    " 1472,\n",
    " 1473,\n",
    " 1476,\n",
    " 1481,\n",
    " 1482,\n",
    " 1483,\n",
    " 1488,\n",
    " 1489,\n",
    " 1490,\n",
    " 1491,\n",
    " 1493]\n"
   ]
  },
  {
   "cell_type": "code",
   "execution_count": null,
   "metadata": {},
   "outputs": [],
   "source": []
  }
 ],
 "metadata": {
  "kernelspec": {
   "display_name": "Python 3",
   "language": "python",
   "name": "python3"
  },
  "language_info": {
   "codemirror_mode": {
    "name": "ipython",
    "version": 3
   },
   "file_extension": ".py",
   "mimetype": "text/x-python",
   "name": "python",
   "nbconvert_exporter": "python",
   "pygments_lexer": "ipython3",
   "version": "3.7.3"
  }
 },
 "nbformat": 4,
 "nbformat_minor": 2
}
