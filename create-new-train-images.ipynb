{
 "cells": [
  {
   "cell_type": "code",
   "execution_count": 100,
   "metadata": {},
   "outputs": [],
   "source": [
    "from PIL import Image\n",
    "from PIL import ImageFilter\n",
    "import cv2\n",
    "import os\n",
    "import numpy as np\n",
    "import matplotlib.pyplot as plt\n",
    "from keras.datasets import mnist\n",
    "import pandas as pd\n",
    "import processing as proc\n",
    "from math import ceil\n",
    "from tensorflow.keras import datasets, layers, models\n",
    "from sklearn.preprocessing import LabelEncoder\n",
    "from keras.utils import np_utils\n",
    "\n",
    "from sklearn.utils import shuffle\n",
    "from sklearn.model_selection import StratifiedShuffleSplit, train_test_split\n",
    "\n",
    "import tensorflow as tf\n",
    "from tensorflow.keras import layers\n",
    "keras = tf.keras\n",
    "AUTOTUNE = tf.data.experimental.AUTOTUNE ## tf.data transformation parameters"
   ]
  },
  {
   "cell_type": "code",
   "execution_count": 59,
   "metadata": {
    "scrolled": true
   },
   "outputs": [],
   "source": [
    "folders = os.popen(\"ls ../number_sets/numbers-master\").read().split('\\n')[:-1]\n",
    "for i,img in enumerate(folders):\n",
    "    folders[i]='../number_sets/numbers-master/'+img\n",
    "folders=folders[:29]\n",
    "# folders"
   ]
  },
  {
   "cell_type": "code",
   "execution_count": 64,
   "metadata": {},
   "outputs": [],
   "source": [
    "# !rm new_traindata_numbermaster__FINALPASS.txt     Uncomment to overwrite file\n",
    "arrays = []\n",
    "labels = []\n",
    "filenames = []\n",
    "for folder in folders:\n",
    "    for dig in [0,2,3,4,5,6,7,8,9]:\n",
    "        direct = folder+'/'+str(dig)+'/'\n",
    "        cmd = \"ls \" +direct\n",
    "        imgs = os.popen(cmd).read().split('\\n')[:-1]\n",
    "        for i,img in enumerate(imgs):\n",
    "            file = direct+img\n",
    "            filenames.append(file)\n",
    "            with open('new_traindata_numbermaster__FINALPASS.txt','a') as writeFile:\n",
    "                answer=dig\n",
    "                binary_arr,label_arr, segments,orig = proc.label_segments(file,'',photo=False,marker=False)\n",
    "                found = binary_arr==0\n",
    "                try:\n",
    "                    x,y = np.where(found)\n",
    "                    xmin,xmax,ymin,ymax = np.min(x),np.max(x),np.min(y),np.max(y)\n",
    "                    xlen,ylen = found[xmin:xmax,ymin:ymax].shape\n",
    "                    diff = np.abs(ylen-xlen)\n",
    "                    change = ceil(diff/2)\n",
    "                    if diff!=0:\n",
    "                        if ylen>xlen:\n",
    "                            xmin-=change\n",
    "                            xmax+=change\n",
    "\n",
    "                        else:\n",
    "                            ymin-=change\n",
    "                            ymax+=change\n",
    "\n",
    "                        xlen,ylen = xmax-xmin,ymax-ymin\n",
    "                        diff=np.abs(ylen-xlen)\n",
    "                        if xlen>ylen: ymax+=diff\n",
    "                        elif ylen>xlen: xmax+=diff\n",
    "                    digit = 1-binary_arr[xmin:xmax,ymin:ymax]\n",
    "                    digit = np.pad(digit,int(len(digit)*.2),mode= 'constant', constant_values=(0,0))                  \n",
    "                    im = Image.fromarray(np.array(digit)*255.0).convert(\"RGB\")\n",
    "                    im.save('000.png')\n",
    "                    del im\n",
    "                    del digit\n",
    "                    \n",
    "                except:  #Takes care of tuple issue\n",
    "                    src = cv2.imread(file, cv2.IMREAD_GRAYSCALE) \n",
    "                    image_file = 255-cv2.GaussianBlur(src,(5,5),cv2.BORDER_DEFAULT)\n",
    "                    del src\n",
    "                    yooo = Image.fromarray(image_file)\n",
    "                    del image_file\n",
    "                    yooo.save('000.png')   \n",
    "                img = cv2.resize(cv2.imread('000.png',cv2.IMREAD_GRAYSCALE),(28,28),interpolation=cv2.INTER_CUBIC)\n",
    "                arr = list(img.flatten())\n",
    "                arr.append(int(answer))\n",
    "                writeFile.write(str(arr)+';')\n",
    "                del arr\n",
    "                arrays.append(img)\n",
    "                labels.append(int(answer))            "
   ]
  },
  {
   "cell_type": "code",
   "execution_count": 155,
   "metadata": {},
   "outputs": [],
   "source": []
  },
  {
   "cell_type": "code",
   "execution_count": null,
   "metadata": {},
   "outputs": [],
   "source": []
  },
  {
   "cell_type": "code",
   "execution_count": 152,
   "metadata": {},
   "outputs": [],
   "source": [
    "# arrays = []\n",
    "# labels = []\n",
    "# with open('new_traindata.txt','a') as writeFile:\n",
    "#     for digit in imgs:\n",
    "# #         answer = digit[-5:-4]\n",
    "#         answer=0\n",
    "#         img = cv2.resize(cv2.imread(digit,cv2.IMREAD_GRAYSCALE),(28,28),interpolation=cv2.INTER_CUBIC)\n",
    "# #         plt.imshow(img)\n",
    "#         arr = list(img.flatten())\n",
    "#         arr.append(int(answer))\n",
    "#         writeFile.write(str(arr)+';')\n",
    "#         arrays.append(img)\n",
    "#         labels.append(int(answer))"
   ]
  },
  {
   "cell_type": "code",
   "execution_count": null,
   "metadata": {},
   "outputs": [],
   "source": []
  },
  {
   "cell_type": "code",
   "execution_count": 79,
   "metadata": {},
   "outputs": [],
   "source": [
    "(X_tr,y_tr),(X_ts,y_ts) = mnist.load_data()"
   ]
  },
  {
   "cell_type": "code",
   "execution_count": 80,
   "metadata": {},
   "outputs": [
    {
     "data": {
      "text/plain": [
       "(60000, 28, 28)"
      ]
     },
     "execution_count": 80,
     "metadata": {},
     "output_type": "execute_result"
    }
   ],
   "source": [
    "X_tr.shape"
   ]
  },
  {
   "cell_type": "code",
   "execution_count": 49,
   "metadata": {
    "scrolled": true
   },
   "outputs": [
    {
     "data": {
      "text/plain": [
       "351"
      ]
     },
     "execution_count": 49,
     "metadata": {},
     "output_type": "execute_result"
    }
   ],
   "source": []
  },
  {
   "cell_type": "code",
   "execution_count": null,
   "metadata": {},
   "outputs": [],
   "source": []
  },
  {
   "cell_type": "code",
   "execution_count": null,
   "metadata": {},
   "outputs": [],
   "source": []
  },
  {
   "cell_type": "code",
   "execution_count": 81,
   "metadata": {},
   "outputs": [
    {
     "data": {
      "text/plain": [
       "(15306, 28, 28)"
      ]
     },
     "execution_count": 81,
     "metadata": {},
     "output_type": "execute_result"
    }
   ],
   "source": [
    "np.array(arrays).shape"
   ]
  },
  {
   "cell_type": "code",
   "execution_count": 66,
   "metadata": {},
   "outputs": [
    {
     "data": {
      "text/plain": [
       "<matplotlib.image.AxesImage at 0x7fb0cf6c9588>"
      ]
     },
     "execution_count": 66,
     "metadata": {},
     "output_type": "execute_result"
    },
    {
     "data": {
      "image/png": "[encoded data removed]",
      "text/plain": [
       "<Figure size 1440x432 with 1 Axes>"
      ]
     },
     "metadata": {
      "needs_background": "light"
     },
     "output_type": "display_data"
    }
   ],
   "source": [
    "plt.imshow(arrays[100])"
   ]
  },
  {
   "cell_type": "code",
   "execution_count": 7,
   "metadata": {},
   "outputs": [
    {
     "name": "stdout",
     "output_type": "stream",
     "text": [
      "mnist_5epochs_20191028.h5  mnist_hasyv2_20epochs_201910291572394063.h5\r\n"
     ]
    }
   ],
   "source": [
    "!ls saved_models\n",
    "models = os.popen(\"ls saved_models\").read().split('\\n')[:-1]\n",
    "tf_model = keras.models.load_model('saved_models/'+models[-1])"
   ]
  },
  {
   "cell_type": "code",
   "execution_count": 67,
   "metadata": {},
   "outputs": [
    {
     "data": {
      "text/html": [
       "<div>\n",
       "<style scoped>\n",
       "    .dataframe tbody tr th:only-of-type {\n",
       "        vertical-align: middle;\n",
       "    }\n",
       "\n",
       "    .dataframe tbody tr th {\n",
       "        vertical-align: top;\n",
       "    }\n",
       "\n",
       "    .dataframe thead th {\n",
       "        text-align: right;\n",
       "    }\n",
       "</style>\n",
       "<table border=\"1\" class=\"dataframe\">\n",
       "  <thead>\n",
       "    <tr style=\"text-align: right;\">\n",
       "      <th></th>\n",
       "      <th>filename</th>\n",
       "      <th>label</th>\n",
       "      <th>array</th>\n",
       "    </tr>\n",
       "  </thead>\n",
       "  <tbody>\n",
       "    <tr>\n",
       "      <td>0</td>\n",
       "      <td>../number_sets/numbers-master/0001_CH4M/0/numb...</td>\n",
       "      <td>0</td>\n",
       "      <td>[[0, 0, 0, 0, 0, 0, 0, 0, 0, 0, 0, 0, 0, 0, 0,...</td>\n",
       "    </tr>\n",
       "    <tr>\n",
       "      <td>1</td>\n",
       "      <td>../number_sets/numbers-master/0001_CH4M/0/numb...</td>\n",
       "      <td>0</td>\n",
       "      <td>[[0, 0, 0, 0, 0, 0, 0, 0, 0, 0, 0, 0, 0, 0, 0,...</td>\n",
       "    </tr>\n",
       "    <tr>\n",
       "      <td>2</td>\n",
       "      <td>../number_sets/numbers-master/0001_CH4M/0/numb...</td>\n",
       "      <td>0</td>\n",
       "      <td>[[0, 0, 0, 0, 0, 0, 0, 0, 0, 0, 0, 0, 0, 0, 0,...</td>\n",
       "    </tr>\n",
       "    <tr>\n",
       "      <td>3</td>\n",
       "      <td>../number_sets/numbers-master/0001_CH4M/0/numb...</td>\n",
       "      <td>0</td>\n",
       "      <td>[[0, 0, 0, 0, 0, 0, 0, 0, 0, 0, 0, 0, 0, 0, 0,...</td>\n",
       "    </tr>\n",
       "    <tr>\n",
       "      <td>4</td>\n",
       "      <td>../number_sets/numbers-master/0001_CH4M/0/numb...</td>\n",
       "      <td>0</td>\n",
       "      <td>[[0, 0, 0, 0, 0, 0, 0, 0, 0, 0, 0, 0, 0, 0, 0,...</td>\n",
       "    </tr>\n",
       "    <tr>\n",
       "      <td>...</td>\n",
       "      <td>...</td>\n",
       "      <td>...</td>\n",
       "      <td>...</td>\n",
       "    </tr>\n",
       "    <tr>\n",
       "      <td>2995</td>\n",
       "      <td>../number_sets/numbers-master/0007_CH3M/0/numb...</td>\n",
       "      <td>0</td>\n",
       "      <td>[[0, 0, 0, 0, 0, 0, 0, 0, 0, 0, 0, 0, 0, 0, 0,...</td>\n",
       "    </tr>\n",
       "    <tr>\n",
       "      <td>2996</td>\n",
       "      <td>../number_sets/numbers-master/0007_CH3M/0/numb...</td>\n",
       "      <td>0</td>\n",
       "      <td>[[0, 0, 0, 0, 0, 0, 0, 0, 0, 0, 0, 0, 0, 0, 0,...</td>\n",
       "    </tr>\n",
       "    <tr>\n",
       "      <td>2997</td>\n",
       "      <td>../number_sets/numbers-master/0007_CH3M/0/numb...</td>\n",
       "      <td>0</td>\n",
       "      <td>[[0, 0, 0, 0, 0, 0, 0, 0, 0, 0, 0, 0, 0, 0, 0,...</td>\n",
       "    </tr>\n",
       "    <tr>\n",
       "      <td>2998</td>\n",
       "      <td>../number_sets/numbers-master/0007_CH3M/0/numb...</td>\n",
       "      <td>0</td>\n",
       "      <td>[[0, 0, 0, 0, 0, 0, 0, 0, 0, 0, 0, 0, 0, 0, 0,...</td>\n",
       "    </tr>\n",
       "    <tr>\n",
       "      <td>2999</td>\n",
       "      <td>../number_sets/numbers-master/0007_CH3M/0/numb...</td>\n",
       "      <td>0</td>\n",
       "      <td>[[0, 0, 0, 0, 0, 0, 0, 0, 0, 0, 0, 0, 0, 0, 0,...</td>\n",
       "    </tr>\n",
       "  </tbody>\n",
       "</table>\n",
       "<p>3000 rows × 3 columns</p>\n",
       "</div>"
      ],
      "text/plain": [
       "                                               filename  label  \\\n",
       "0     ../number_sets/numbers-master/0001_CH4M/0/numb...      0   \n",
       "1     ../number_sets/numbers-master/0001_CH4M/0/numb...      0   \n",
       "2     ../number_sets/numbers-master/0001_CH4M/0/numb...      0   \n",
       "3     ../number_sets/numbers-master/0001_CH4M/0/numb...      0   \n",
       "4     ../number_sets/numbers-master/0001_CH4M/0/numb...      0   \n",
       "...                                                 ...    ...   \n",
       "2995  ../number_sets/numbers-master/0007_CH3M/0/numb...      0   \n",
       "2996  ../number_sets/numbers-master/0007_CH3M/0/numb...      0   \n",
       "2997  ../number_sets/numbers-master/0007_CH3M/0/numb...      0   \n",
       "2998  ../number_sets/numbers-master/0007_CH3M/0/numb...      0   \n",
       "2999  ../number_sets/numbers-master/0007_CH3M/0/numb...      0   \n",
       "\n",
       "                                                  array  \n",
       "0     [[0, 0, 0, 0, 0, 0, 0, 0, 0, 0, 0, 0, 0, 0, 0,...  \n",
       "1     [[0, 0, 0, 0, 0, 0, 0, 0, 0, 0, 0, 0, 0, 0, 0,...  \n",
       "2     [[0, 0, 0, 0, 0, 0, 0, 0, 0, 0, 0, 0, 0, 0, 0,...  \n",
       "3     [[0, 0, 0, 0, 0, 0, 0, 0, 0, 0, 0, 0, 0, 0, 0,...  \n",
       "4     [[0, 0, 0, 0, 0, 0, 0, 0, 0, 0, 0, 0, 0, 0, 0,...  \n",
       "...                                                 ...  \n",
       "2995  [[0, 0, 0, 0, 0, 0, 0, 0, 0, 0, 0, 0, 0, 0, 0,...  \n",
       "2996  [[0, 0, 0, 0, 0, 0, 0, 0, 0, 0, 0, 0, 0, 0, 0,...  \n",
       "2997  [[0, 0, 0, 0, 0, 0, 0, 0, 0, 0, 0, 0, 0, 0, 0,...  \n",
       "2998  [[0, 0, 0, 0, 0, 0, 0, 0, 0, 0, 0, 0, 0, 0, 0,...  \n",
       "2999  [[0, 0, 0, 0, 0, 0, 0, 0, 0, 0, 0, 0, 0, 0, 0,...  \n",
       "\n",
       "[3000 rows x 3 columns]"
      ]
     },
     "execution_count": 67,
     "metadata": {},
     "output_type": "execute_result"
    }
   ],
   "source": [
    "newset = pd.DataFrame(filenames[:3000])\n",
    "newset.columns = ['filename']\n",
    "newset['label']=labels[:3000]\n",
    "newset['array']=arrays[:3000]\n",
    "newset"
   ]
  },
  {
   "cell_type": "code",
   "execution_count": 68,
   "metadata": {},
   "outputs": [
    {
     "name": "stdout",
     "output_type": "stream",
     "text": [
      "0\n",
      "300\n",
      "600\n",
      "900\n",
      "1200\n",
      "1500\n",
      "1800\n",
      "2100\n",
      "2400\n",
      "2700\n"
     ]
    }
   ],
   "source": [
    "predictions = []\n",
    "for LOC in range(len(newset)):\n",
    "    predictions.append(np.argmax(tf_model.predict(newset.array.iloc[LOC].astype(float).flatten().reshape((1, 28, 28, 1)))))\n",
    "    if LOC%300==0:\n",
    "        print(LOC)\n",
    "newset['predict']=predictions"
   ]
  },
  {
   "cell_type": "code",
   "execution_count": 69,
   "metadata": {},
   "outputs": [
    {
     "data": {
      "text/html": [
       "<div>\n",
       "<style scoped>\n",
       "    .dataframe tbody tr th:only-of-type {\n",
       "        vertical-align: middle;\n",
       "    }\n",
       "\n",
       "    .dataframe tbody tr th {\n",
       "        vertical-align: top;\n",
       "    }\n",
       "\n",
       "    .dataframe thead th {\n",
       "        text-align: right;\n",
       "    }\n",
       "</style>\n",
       "<table border=\"1\" class=\"dataframe\">\n",
       "  <thead>\n",
       "    <tr style=\"text-align: right;\">\n",
       "      <th></th>\n",
       "      <th>label</th>\n",
       "      <th>predict</th>\n",
       "      <th>score</th>\n",
       "    </tr>\n",
       "  </thead>\n",
       "  <tbody>\n",
       "    <tr>\n",
       "      <td>0</td>\n",
       "      <td>0</td>\n",
       "      <td>0</td>\n",
       "      <td>1</td>\n",
       "    </tr>\n",
       "    <tr>\n",
       "      <td>1</td>\n",
       "      <td>0</td>\n",
       "      <td>0</td>\n",
       "      <td>1</td>\n",
       "    </tr>\n",
       "    <tr>\n",
       "      <td>2</td>\n",
       "      <td>0</td>\n",
       "      <td>0</td>\n",
       "      <td>1</td>\n",
       "    </tr>\n",
       "    <tr>\n",
       "      <td>3</td>\n",
       "      <td>0</td>\n",
       "      <td>0</td>\n",
       "      <td>1</td>\n",
       "    </tr>\n",
       "    <tr>\n",
       "      <td>4</td>\n",
       "      <td>0</td>\n",
       "      <td>0</td>\n",
       "      <td>1</td>\n",
       "    </tr>\n",
       "    <tr>\n",
       "      <td>...</td>\n",
       "      <td>...</td>\n",
       "      <td>...</td>\n",
       "      <td>...</td>\n",
       "    </tr>\n",
       "    <tr>\n",
       "      <td>2995</td>\n",
       "      <td>0</td>\n",
       "      <td>0</td>\n",
       "      <td>1</td>\n",
       "    </tr>\n",
       "    <tr>\n",
       "      <td>2996</td>\n",
       "      <td>0</td>\n",
       "      <td>0</td>\n",
       "      <td>1</td>\n",
       "    </tr>\n",
       "    <tr>\n",
       "      <td>2997</td>\n",
       "      <td>0</td>\n",
       "      <td>6</td>\n",
       "      <td>0</td>\n",
       "    </tr>\n",
       "    <tr>\n",
       "      <td>2998</td>\n",
       "      <td>0</td>\n",
       "      <td>0</td>\n",
       "      <td>1</td>\n",
       "    </tr>\n",
       "    <tr>\n",
       "      <td>2999</td>\n",
       "      <td>0</td>\n",
       "      <td>0</td>\n",
       "      <td>1</td>\n",
       "    </tr>\n",
       "  </tbody>\n",
       "</table>\n",
       "<p>3000 rows × 3 columns</p>\n",
       "</div>"
      ],
      "text/plain": [
       "      label  predict  score\n",
       "0         0        0      1\n",
       "1         0        0      1\n",
       "2         0        0      1\n",
       "3         0        0      1\n",
       "4         0        0      1\n",
       "...     ...      ...    ...\n",
       "2995      0        0      1\n",
       "2996      0        0      1\n",
       "2997      0        6      0\n",
       "2998      0        0      1\n",
       "2999      0        0      1\n",
       "\n",
       "[3000 rows x 3 columns]"
      ]
     },
     "execution_count": 69,
     "metadata": {},
     "output_type": "execute_result"
    }
   ],
   "source": [
    "newset['score']=(newset.label==newset.predict)*1\n",
    "newset[['label','predict','score']]"
   ]
  },
  {
   "cell_type": "code",
   "execution_count": 71,
   "metadata": {},
   "outputs": [
    {
     "data": {
      "text/plain": [
       "count    3000.000000\n",
       "mean        0.844667\n",
       "std         0.362283\n",
       "min         0.000000\n",
       "25%         1.000000\n",
       "50%         1.000000\n",
       "75%         1.000000\n",
       "max         1.000000\n",
       "Name: score, dtype: float64"
      ]
     },
     "execution_count": 71,
     "metadata": {},
     "output_type": "execute_result"
    }
   ],
   "source": [
    "newset.score.describe()"
   ]
  },
  {
   "cell_type": "code",
   "execution_count": 76,
   "metadata": {},
   "outputs": [],
   "source": [
    "# binary_arr,label_arr, segments,orig = proc.label_segments(newset.filename.iloc[1157],'',photo=False,marker=False)\n",
    "# plt.imshow(binary_arr)\n",
    "# found = binary_arr==0\n",
    "# x,y = np.where(found)\n",
    "# xmin,xmax,ymin,ymax = np.min(x),np.max(x),np.min(y),np.max(y)\n",
    "# xlen,ylen = found[xmin:xmax,ymin:ymax].shape\n",
    "# diff = np.abs(ylen-xlen)\n",
    "# change = ceil(diff/2)\n",
    "# if diff!=0:\n",
    "#     if ylen>xlen:\n",
    "#         xmin-=change\n",
    "#         xmax+=change\n",
    "\n",
    "#     else:\n",
    "#         ymin-=change\n",
    "#         ymax+=change\n",
    "\n",
    "#     xlen,ylen = xmax-xmin,ymax-ymin\n",
    "#     diff=np.abs(ylen-xlen)\n",
    "#     if xlen>ylen: ymax+=diff\n",
    "#     elif ylen>xlen: xmax+=diff\n",
    "# digit = 1-binary_arr[xmin:xmax,ymin:ymax]\n",
    "# digit = np.pad(digit,int(len(digit)*.2),mode= 'constant', constant_values=(0,0))        \n",
    "# plt.imshow(digit)"
   ]
  },
  {
   "cell_type": "code",
   "execution_count": null,
   "metadata": {},
   "outputs": [],
   "source": []
  },
  {
   "cell_type": "code",
   "execution_count": 43,
   "metadata": {},
   "outputs": [
    {
     "data": {
      "text/plain": [
       "2"
      ]
     },
     "execution_count": 43,
     "metadata": {},
     "output_type": "execute_result"
    }
   ],
   "source": [
    "np.argmax(tf_model.predict(img.astype(float).flatten().reshape((1, 28, 28, 1))))"
   ]
  },
  {
   "cell_type": "code",
   "execution_count": 40,
   "metadata": {},
   "outputs": [
    {
     "data": {
      "text/plain": [
       "'../number_sets/numbers-master/0001_CH4M/2/number-440.png'"
      ]
     },
     "execution_count": 40,
     "metadata": {},
     "output_type": "execute_result"
    }
   ],
   "source": [
    "newset.iloc[100].filename"
   ]
  },
  {
   "cell_type": "markdown",
   "metadata": {},
   "source": [
    "### HASYv2 DATASET"
   ]
  },
  {
   "cell_type": "code",
   "execution_count": 77,
   "metadata": {},
   "outputs": [
    {
     "name": "stderr",
     "output_type": "stream",
     "text": [
      "/home/nina/anaconda3/lib/python3.7/site-packages/ipykernel_launcher.py:8: SettingWithCopyWarning: \n",
      "A value is trying to be set on a copy of a slice from a DataFrame.\n",
      "Try using .loc[row_indexer,col_indexer] = value instead\n",
      "\n",
      "See the caveats in the documentation: http://pandas.pydata.org/pandas-docs/stable/user_guide/indexing.html#returning-a-view-versus-a-copy\n",
      "  \n"
     ]
    }
   ],
   "source": [
    "file = 'HASYv2/hasy-data-labels.csv'\n",
    "df = pd.read_csv(file)\n",
    "digits = df[(df['symbol_id']<=79) & (df['symbol_id']>=70)]\n",
    "# digits 0-9\n",
    "def make_pixel_array(df):\n",
    "    im = Image.open('HASYv2/'+df['path'],'r').convert('L')\n",
    "    return np.asarray(im)  ##255-val inverts colors\n",
    "digits['pixels']=digits.apply(make_pixel_array,axis=1)\n",
    "nrows = 28\n",
    "ncolumns = 28\n",
    "channels = 1\n",
    "def read_process_images(img_list,y,invert=False):\n",
    "    img_list,y = shuffle(img_list,y)\n",
    "    X=[]\n",
    "    for path in img_list:\n",
    "        image = 'HASYv2/' + path       ##can do color .IMREAD_COLOR\n",
    "        X.append(cv2.resize(cv2.imread(image,cv2.IMREAD_GRAYSCALE),(nrows,ncolumns),interpolation=cv2.INTER_CUBIC))\n",
    "    if invert==True:\n",
    "        return 255-np.array(X),np.array(y)\n",
    "    return np.array(X),np.array(y)\n",
    "X,y = read_process_images(digits['path'],digits['latex'],invert=True)"
   ]
  },
  {
   "cell_type": "markdown",
   "metadata": {},
   "source": [
    "## JOIN HASYv2, MNIST, NEWSET"
   ]
  },
  {
   "cell_type": "code",
   "execution_count": 83,
   "metadata": {},
   "outputs": [],
   "source": [
    "X_JOINED = np.concatenate((arrays,X_tr, X,X_ts), axis=0)\n",
    "y_JOINED = np.concatenate((labels,y_tr, y,y_ts), axis=0)"
   ]
  },
  {
   "cell_type": "code",
   "execution_count": 86,
   "metadata": {},
   "outputs": [],
   "source": [
    "FINALTRAINSET = pd.DataFrame(list(zip(X_JOINED,y_JOINED)))\n",
    "FINALTRAINSET.columns = ['X','y']\n",
    "FINALTRAINSET.to_csv('final_trainset.csv',index=None)"
   ]
  },
  {
   "cell_type": "code",
   "execution_count": 91,
   "metadata": {},
   "outputs": [
    {
     "data": {
      "text/plain": [
       "1"
      ]
     },
     "execution_count": 91,
     "metadata": {},
     "output_type": "execute_result"
    }
   ],
   "source": [
    "# sss = StratifiedShuffleSplit(1, train_size=0.8)\n",
    "# sss.get_n_splits(X_JOINED, y_JOINED)\n",
    "# X_train, X_test = sss.split(X_JOINED, y_JOINED)"
   ]
  },
  {
   "cell_type": "markdown",
   "metadata": {},
   "source": [
    "## RETRAIN CNN MODEL"
   ]
  },
  {
   "cell_type": "code",
   "execution_count": 95,
   "metadata": {},
   "outputs": [],
   "source": [
    "X_train, X_test, y_train, y_test = train_test_split(X_JOINED, y_JOINED,train_size=.8)"
   ]
  },
  {
   "cell_type": "code",
   "execution_count": 98,
   "metadata": {},
   "outputs": [],
   "source": [
    "from keras import layers\n",
    "from keras import models\n",
    "from keras import optimizers\n",
    "from keras.datasets import mnist\n",
    "from keras.models import Sequential, load_model\n",
    "from keras.layers.core import Dense, Dropout, Activation\n",
    "from keras.utils import np_utils\n",
    "from keras.preprocessing.image import ImageDataGenerator\n",
    "\n",
    "from sklearn.model_selection import train_test_split\n",
    "from sklearn.neighbors import KNeighborsRegressor\n",
    "from sklearn.tree import DecisionTreeClassifier\n",
    "from sklearn.metrics import accuracy_score\n"
   ]
  },
  {
   "cell_type": "code",
   "execution_count": 101,
   "metadata": {},
   "outputs": [],
   "source": [
    "conv_model = models.Sequential()\n",
    "conv_model.add(layers.Conv2D(32, (3, 3), activation='relu', input_shape=(28, 28, 1)))\n",
    "conv_model.add(layers.MaxPooling2D((2, 2)))\n",
    "conv_model.add(layers.Conv2D(64, (3, 3), activation='relu'))\n",
    "conv_model.add(layers.MaxPooling2D((2, 2)))\n",
    "conv_model.add(layers.Conv2D(64, (3, 3), activation='relu'))\n",
    "conv_model.add(layers.Flatten())\n",
    "conv_model.add(layers.Dense(64, activation='relu'))\n",
    "conv_model.add(layers.Dense(10, activation='softmax'))\n",
    "conv_model.compile(optimizer='adam',\n",
    "              loss='categorical_crossentropy',\n",
    "              metrics=['accuracy'])\n",
    "x_train = X_train.astype('int32')\n",
    "x_test = X_test.astype('int32')\n",
    "\n",
    "y_train = y_train.astype('int32')\n",
    "y_test = y_test.astype('int32')\n",
    "x_train = np.array([x.reshape(28,28,1) for x in x_train])\n",
    "x_test = np.array([x.reshape(28,28,1) for x in x_test])"
   ]
  },
  {
   "cell_type": "code",
   "execution_count": null,
   "metadata": {},
   "outputs": [
    {
     "name": "stdout",
     "output_type": "stream",
     "text": [
      "Train on 69060 samples\n",
      "Epoch 1/20\n",
      "69060/69060 [==============================] - 50s 727us/sample - loss: 0.3012 - accuracy: 0.9245\n",
      "Epoch 2/20\n",
      "69060/69060 [==============================] - 45s 648us/sample - loss: 0.1099 - accuracy: 0.9644\n",
      "Epoch 3/20\n",
      "69060/69060 [==============================] - 47s 679us/sample - loss: 0.0954 - accuracy: 0.9683\n",
      "Epoch 4/20\n",
      "69060/69060 [==============================] - 46s 659us/sample - loss: 0.0854 - accuracy: 0.9719\n",
      "Epoch 5/20\n",
      "21312/69060 [========>.....................] - ETA: 31s - loss: 0.0760 - accuracy: 0.9746"
     ]
    }
   ],
   "source": [
    "encoder = LabelEncoder()\n",
    "encoder.fit(y_train)\n",
    "encoded_y_train = encoder.transform(y_train)\n",
    "# convert integers to dummy variables (i.e. one hot encoded)\n",
    "dummy_y_train = np_utils.to_categorical(y_train).astype('int32')\n",
    "\n",
    "encoder = LabelEncoder()\n",
    "encoder.fit(y_test)\n",
    "encoded_y_test = encoder.transform(y_test)\n",
    "# convert integers to dummy variables (i.e. one hot encoded)\n",
    "dummy_y_test = np_utils.to_categorical(y_test).astype('int32')\n",
    "conv_model.fit(x_train, dummy_y_train, batch_size=32, epochs=20)"
   ]
  },
  {
   "cell_type": "code",
   "execution_count": null,
   "metadata": {},
   "outputs": [],
   "source": [
    "from datetime import datetime\n",
    "saved_model_path = \"./saved_models/mnist_hasyv2_master_20epochs_{}.h5\".format(datetime.now().strftime(\"%Y%m%d%s\")) # _%H%M%S\n",
    "# Save entire model to a HDF5 file\n",
    "conv_model.save(saved_model_path)"
   ]
  },
  {
   "cell_type": "code",
   "execution_count": null,
   "metadata": {},
   "outputs": [],
   "source": [
    "def get_prediction(y):\n",
    "    return np.argmax(y)\n",
    "y_pred_prob = conv_model.predict(x_test.astype('float32'))\n",
    "y_pred = np.array([get_prediction(y) for y in y_pred_prob])\n"
   ]
  },
  {
   "cell_type": "code",
   "execution_count": null,
   "metadata": {},
   "outputs": [],
   "source": [
    "fig, ax = plt.subplots()\n",
    "ax.hist(y_pred[y_test == 0], alpha=0.3, bins=20, label=\"0\")\n",
    "ax.hist(y_pred[y_test == 1], alpha=0.3, bins=20, label=\"1\")\n",
    "ax.hist(y_pred[y_test == 2], alpha=0.3, bins=20, label=\"2\")\n",
    "ax.hist(y_pred[y_test == 3], alpha=0.3, bins=20, label=\"3\")\n",
    "ax.hist(y_pred[y_test == 4], alpha=0.3, bins=20, label=\"4\")\n",
    "ax.hist(y_pred[y_test == 5], alpha=0.3, bins=20, label=\"5\")\n",
    "ax.hist(y_pred[y_test == 6], alpha=0.3, bins=20, label=\"6\")\n",
    "ax.hist(y_pred[y_test == 7], alpha=0.3, bins=20, label=\"7\")\n",
    "ax.hist(y_pred[y_test == 8], alpha=0.3, bins=20, label=\"8\")\n",
    "ax.hist(y_pred[y_test == 9], alpha=0.3, bins=20, label=\"9\")\n",
    "ax.legend()"
   ]
  },
  {
   "cell_type": "code",
   "execution_count": null,
   "metadata": {},
   "outputs": [],
   "source": [
    "results  = pd.DataFrame(y_test)\n",
    "results.columns = ['actual']\n",
    "results['predict']=y_pred\n",
    "results['match']=(results['actual']==results['predict'])*1\n",
    "results['match'].value_counts()"
   ]
  }
 ],
 "metadata": {
  "kernelspec": {
   "display_name": "Python 3",
   "language": "python",
   "name": "python3"
  },
  "language_info": {
   "codemirror_mode": {
    "name": "ipython",
    "version": 3
   },
   "file_extension": ".py",
   "mimetype": "text/x-python",
   "name": "python",
   "nbconvert_exporter": "python",
   "pygments_lexer": "ipython3",
   "version": "3.7.3"
  }
 },
 "nbformat": 4,
 "nbformat_minor": 2
}
